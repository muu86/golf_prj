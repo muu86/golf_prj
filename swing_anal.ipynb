{
  "nbformat": 4,
  "nbformat_minor": 0,
  "metadata": {
    "colab": {
      "name": "swing_anal.ipynb",
      "provenance": [],
      "collapsed_sections": [
        "MGrWcqGaGgGR",
        "K0ohNfKyGl8J",
        "qQbbXiKBesQB",
        "UOI8YsSLew0Y",
        "LgU-sZB2C8bh",
        "fDiMA6j7YhnV",
        "fDncAdNxYoXs",
        "iPahiA47eEnT",
        "i6nOU-IFeH-q"
      ],
      "toc_visible": true,
      "mount_file_id": "1W7ygGZGAg43RxIdNBLKt5K33jCSzIO1b",
      "authorship_tag": "ABX9TyM+6HVWcIDQm8xY5eYgiPhQ",
      "include_colab_link": true
    },
    "kernelspec": {
      "name": "python3",
      "display_name": "Python 3"
    }
  },
  "cells": [
    {
      "cell_type": "markdown",
      "metadata": {
        "id": "view-in-github",
        "colab_type": "text"
      },
      "source": [
        "<a href=\"https://colab.research.google.com/github/muu86/golf_prj/blob/main/swing_anal.ipynb\" target=\"_parent\"><img src=\"https://colab.research.google.com/assets/colab-badge.svg\" alt=\"Open In Colab\"/></a>"
      ]
    },
    {
      "cell_type": "code",
      "metadata": {
        "colab": {
          "base_uri": "https://localhost:8080/"
        },
        "id": "gJupOMt8AePD",
        "outputId": "7b8ed349-dcf9-466f-a4e1-074d92e9b46a"
      },
      "source": [
        "%cd drive/MyDrive/Colab\\ Notebooks/golfdb"
      ],
      "execution_count": 1,
      "outputs": [
        {
          "output_type": "stream",
          "text": [
            "/content/drive/MyDrive/Colab Notebooks/golfdb\n"
          ],
          "name": "stdout"
        }
      ]
    },
    {
      "cell_type": "code",
      "metadata": {
        "id": "GvMJZgWQ_ZHE"
      },
      "source": [
        "import json\r\n",
        "import numpy as np\r\n",
        "import pandas as pd\r\n",
        "import matplotlib.pyplot as plt\r\n",
        "import pickle"
      ],
      "execution_count": 2,
      "outputs": []
    },
    {
      "cell_type": "markdown",
      "metadata": {
        "id": "A8g5nnlHCIlS"
      },
      "source": [
        "## event name\r\n",
        "\r\n",
        "- 0 : Address\r\n",
        "- 1 : Toe-up\r\n",
        "- 2 : Mid-backswing\r\n",
        "- 3 : Top\r\n",
        "- 4 : Mid-downswing\r\n",
        "- 5 : Impact\r\n",
        "- 6 : Mid-follow-through\r\n",
        "- 7 : Finish"
      ]
    },
    {
      "cell_type": "markdown",
      "metadata": {
        "id": "TtdIm8eyvT_0"
      },
      "source": [
        "## 먼저 실행할 코드들"
      ]
    },
    {
      "cell_type": "code",
      "metadata": {
        "id": "qcgnKcpkAYOc"
      },
      "source": [
        "df = pd.read_pickle('data/face_on.pkl')"
      ],
      "execution_count": 5,
      "outputs": []
    },
    {
      "cell_type": "code",
      "metadata": {
        "colab": {
          "base_uri": "https://localhost:8080/",
          "height": 407
        },
        "id": "LQXbGvlvAd1L",
        "outputId": "f90a9076-790f-4fb0-85ca-accd2c8a4e7d"
      },
      "source": [
        "df"
      ],
      "execution_count": 6,
      "outputs": [
        {
          "output_type": "execute_result",
          "data": {
            "text/html": [
              "<div>\n",
              "<style scoped>\n",
              "    .dataframe tbody tr th:only-of-type {\n",
              "        vertical-align: middle;\n",
              "    }\n",
              "\n",
              "    .dataframe tbody tr th {\n",
              "        vertical-align: top;\n",
              "    }\n",
              "\n",
              "    .dataframe thead th {\n",
              "        text-align: right;\n",
              "    }\n",
              "</style>\n",
              "<table border=\"1\" class=\"dataframe\">\n",
              "  <thead>\n",
              "    <tr style=\"text-align: right;\">\n",
              "      <th></th>\n",
              "      <th>id</th>\n",
              "      <th>youtube_id</th>\n",
              "      <th>player</th>\n",
              "      <th>sex</th>\n",
              "      <th>club</th>\n",
              "      <th>view</th>\n",
              "      <th>slow</th>\n",
              "      <th>events</th>\n",
              "      <th>bbox</th>\n",
              "      <th>split</th>\n",
              "    </tr>\n",
              "  </thead>\n",
              "  <tbody>\n",
              "    <tr>\n",
              "      <th>8</th>\n",
              "      <td>8</td>\n",
              "      <td>-M5SITXMA2Y</td>\n",
              "      <td>CRISTIE KERR</td>\n",
              "      <td>f</td>\n",
              "      <td>driver</td>\n",
              "      <td>face-on</td>\n",
              "      <td>0</td>\n",
              "      <td>[288, 317, 333, 335, 347, 352, 355, 357, 371, ...</td>\n",
              "      <td>[0.0007812500000000111, 0.0006944444444444445,...</td>\n",
              "      <td>4</td>\n",
              "    </tr>\n",
              "    <tr>\n",
              "      <th>10</th>\n",
              "      <td>10</td>\n",
              "      <td>gOBVh7fzyZo</td>\n",
              "      <td>STEVE STRICKER</td>\n",
              "      <td>m</td>\n",
              "      <td>driver</td>\n",
              "      <td>face-on</td>\n",
              "      <td>0</td>\n",
              "      <td>[395, 475, 488, 492, 499, 504, 507, 509, 524, ...</td>\n",
              "      <td>[0.10625, 0.0006944444444444445, 0.80078125, 1.0]</td>\n",
              "      <td>1</td>\n",
              "    </tr>\n",
              "    <tr>\n",
              "      <th>14</th>\n",
              "      <td>14</td>\n",
              "      <td>vN3Uc_EhnnY</td>\n",
              "      <td>GREG NORMAN</td>\n",
              "      <td>m</td>\n",
              "      <td>driver</td>\n",
              "      <td>face-on</td>\n",
              "      <td>0</td>\n",
              "      <td>[457, 497, 513, 515, 523, 527, 531, 533, 546, ...</td>\n",
              "      <td>[0.05234375000000001, 0.0006944444444444445, 0...</td>\n",
              "      <td>2</td>\n",
              "    </tr>\n",
              "    <tr>\n",
              "      <th>19</th>\n",
              "      <td>19</td>\n",
              "      <td>iW323nsTGtU</td>\n",
              "      <td>HYO JOO KIM</td>\n",
              "      <td>f</td>\n",
              "      <td>driver</td>\n",
              "      <td>face-on</td>\n",
              "      <td>0</td>\n",
              "      <td>[271, 310, 328, 333, 344, 348, 352, 355, 377, ...</td>\n",
              "      <td>[0.07343750000000002, 0.0006944444444444445, 0...</td>\n",
              "      <td>3</td>\n",
              "    </tr>\n",
              "    <tr>\n",
              "      <th>25</th>\n",
              "      <td>25</td>\n",
              "      <td>pxO_eGmiDFk</td>\n",
              "      <td>PORNANONG PHATLUM</td>\n",
              "      <td>f</td>\n",
              "      <td>driver</td>\n",
              "      <td>face-on</td>\n",
              "      <td>0</td>\n",
              "      <td>[301, 338, 362, 370, 379, 383, 387, 389, 407, ...</td>\n",
              "      <td>[0.05625000000000001, 0.0006944444444444445, 0...</td>\n",
              "      <td>3</td>\n",
              "    </tr>\n",
              "    <tr>\n",
              "      <th>...</th>\n",
              "      <td>...</td>\n",
              "      <td>...</td>\n",
              "      <td>...</td>\n",
              "      <td>...</td>\n",
              "      <td>...</td>\n",
              "      <td>...</td>\n",
              "      <td>...</td>\n",
              "      <td>...</td>\n",
              "      <td>...</td>\n",
              "      <td>...</td>\n",
              "    </tr>\n",
              "    <tr>\n",
              "      <th>1348</th>\n",
              "      <td>1348</td>\n",
              "      <td>Yigxi0Oc5V4</td>\n",
              "      <td>BEN ROETHLISBERGER</td>\n",
              "      <td>m</td>\n",
              "      <td>driver</td>\n",
              "      <td>face-on</td>\n",
              "      <td>0</td>\n",
              "      <td>[331, 566, 581, 586, 594, 600, 603, 605, 620, ...</td>\n",
              "      <td>[0.06640625000000001, 0.0006944444444444445, 0...</td>\n",
              "      <td>2</td>\n",
              "    </tr>\n",
              "    <tr>\n",
              "      <th>1352</th>\n",
              "      <td>1352</td>\n",
              "      <td>9Ifs0EQmRZk</td>\n",
              "      <td>BEATRIZ RECARI</td>\n",
              "      <td>f</td>\n",
              "      <td>driver</td>\n",
              "      <td>face-on</td>\n",
              "      <td>0</td>\n",
              "      <td>[271, 465, 482, 487, 494, 497, 501, 504, 523, ...</td>\n",
              "      <td>[0.06250000000000001, 0.0006944444444444445, 0...</td>\n",
              "      <td>2</td>\n",
              "    </tr>\n",
              "    <tr>\n",
              "      <th>1374</th>\n",
              "      <td>1374</td>\n",
              "      <td>6K1FD0sOwoI</td>\n",
              "      <td>ALISON LEE</td>\n",
              "      <td>f</td>\n",
              "      <td>driver</td>\n",
              "      <td>face-on</td>\n",
              "      <td>0</td>\n",
              "      <td>[151, 420, 444, 451, 459, 464, 468, 471, 491, ...</td>\n",
              "      <td>[0.140625, 0.0006944444444444445, 0.7171875, 0...</td>\n",
              "      <td>2</td>\n",
              "    </tr>\n",
              "    <tr>\n",
              "      <th>1388</th>\n",
              "      <td>1388</td>\n",
              "      <td>GXn3A0IuWsE</td>\n",
              "      <td>ROGER CLEMENS</td>\n",
              "      <td>m</td>\n",
              "      <td>driver</td>\n",
              "      <td>face-on</td>\n",
              "      <td>0</td>\n",
              "      <td>[211, 255, 265, 270, 276, 280, 284, 286, 297, ...</td>\n",
              "      <td>[0.12109375, 0.09583333333333334, 0.65703125, ...</td>\n",
              "      <td>1</td>\n",
              "    </tr>\n",
              "    <tr>\n",
              "      <th>1396</th>\n",
              "      <td>1396</td>\n",
              "      <td>TtxGGIzrqWI</td>\n",
              "      <td>KENNY PERRY</td>\n",
              "      <td>m</td>\n",
              "      <td>driver</td>\n",
              "      <td>face-on</td>\n",
              "      <td>0</td>\n",
              "      <td>[121, 394, 407, 414, 427, 431, 435, 437, 452, ...</td>\n",
              "      <td>[0.16796875, 0.0006944444444444445, 0.7171875,...</td>\n",
              "      <td>3</td>\n",
              "    </tr>\n",
              "  </tbody>\n",
              "</table>\n",
              "<p>174 rows × 10 columns</p>\n",
              "</div>"
            ],
            "text/plain": [
              "        id  ... split\n",
              "8        8  ...     4\n",
              "10      10  ...     1\n",
              "14      14  ...     2\n",
              "19      19  ...     3\n",
              "25      25  ...     3\n",
              "...    ...  ...   ...\n",
              "1348  1348  ...     2\n",
              "1352  1352  ...     2\n",
              "1374  1374  ...     2\n",
              "1388  1388  ...     1\n",
              "1396  1396  ...     3\n",
              "\n",
              "[174 rows x 10 columns]"
            ]
          },
          "metadata": {
            "tags": []
          },
          "execution_count": 6
        }
      ]
    },
    {
      "cell_type": "code",
      "metadata": {
        "id": "-z4q6PU3ArvU"
      },
      "source": [
        "kp = pd.read_pickle('data/keypoints_dic.pickle')"
      ],
      "execution_count": 7,
      "outputs": []
    },
    {
      "cell_type": "code",
      "metadata": {
        "id": "piSZfd96BEQx"
      },
      "source": [
        "kp"
      ],
      "execution_count": null,
      "outputs": []
    },
    {
      "cell_type": "code",
      "metadata": {
        "id": "H4ovatL8m2Eb"
      },
      "source": [
        "def p3_angle(a, b, c):\r\n",
        "  a = np.array(a)\r\n",
        "  b = np.array(b)\r\n",
        "  c = np.array(c)\r\n",
        "  \r\n",
        "  ba = a - b\r\n",
        "  bc = c - b\r\n",
        "\r\n",
        "  cosine_angle = np.dot(ba, bc) / (np.linalg.norm(ba) * np.linalg.norm(bc))\r\n",
        "  angle = np.arccos(cosine_angle)\r\n",
        "\r\n",
        "  return np.degrees(angle)"
      ],
      "execution_count": 8,
      "outputs": []
    },
    {
      "cell_type": "code",
      "metadata": {
        "colab": {
          "base_uri": "https://localhost:8080/"
        },
        "id": "J3atYeWrXILG",
        "outputId": "3e59cfb1-1f7a-4159-d1f1-6b9bdace3a91"
      },
      "source": [
        "# 타이거 우즈 스윙 데이터\r\n",
        "import pickle\r\n",
        "\r\n",
        "with open('woods.pkl', 'rb') as f:\r\n",
        "  woods_data = pickle.load(f)\r\n",
        "\r\n",
        "woods_data"
      ],
      "execution_count": 9,
      "outputs": [
        {
          "output_type": "execute_result",
          "data": {
            "text/plain": [
              "{0: array([[1.9870158e+02, 2.5281937e+02, 8.5509098e-01],\n",
              "        [2.0171310e+02, 2.7083734e+02, 9.2718118e-01],\n",
              "        [1.5361508e+02, 2.7390829e+02, 9.1418183e-01],\n",
              "        [1.7461949e+02, 3.6400467e+02, 8.8575798e-01],\n",
              "        [1.9580568e+02, 4.3313437e+02, 8.6118454e-01],\n",
              "        [2.4978700e+02, 2.5886136e+02, 8.8883716e-01],\n",
              "        [2.3486555e+02, 3.4894019e+02, 8.7093931e-01],\n",
              "        [2.1679619e+02, 4.2101868e+02, 8.3981621e-01],\n",
              "        [2.0482535e+02, 3.9408548e+02, 8.3487892e-01],\n",
              "        [1.7772273e+02, 3.9415405e+02, 8.0496436e-01],\n",
              "        [1.5382246e+02, 4.9631384e+02, 9.0263999e-01],\n",
              "        [1.2979953e+02, 6.2543866e+02, 8.8349229e-01],\n",
              "        [2.3482294e+02, 3.9407599e+02, 7.8961450e-01],\n",
              "        [2.5282890e+02, 4.9923633e+02, 8.8804567e-01],\n",
              "        [2.6187146e+02, 6.1641534e+02, 8.2580125e-01],\n",
              "        [1.8376199e+02, 2.4679047e+02, 8.1530416e-01],\n",
              "        [2.0471356e+02, 2.4386069e+02, 8.1146318e-01],\n",
              "        [1.7469267e+02, 2.2881468e+02, 5.6184900e-01],\n",
              "        [2.2563496e+02, 2.2585919e+02, 7.6242113e-01],\n",
              "        [2.7091061e+02, 6.4646698e+02, 8.3867085e-01],\n",
              "        [2.8294269e+02, 6.4045288e+02, 8.6206234e-01],\n",
              "        [2.5289421e+02, 6.3431635e+02, 7.5917768e-01],\n",
              "        [1.2959566e+02, 6.4943597e+02, 8.3454049e-01],\n",
              "        [1.0876952e+02, 6.4049023e+02, 8.7035793e-01],\n",
              "        [1.3270671e+02, 6.3732336e+02, 8.0386394e-01]], dtype=float32),\n",
              " 1: array([[1.77722504e+02, 2.52798141e+02, 8.66515696e-01],\n",
              "        [1.83736313e+02, 2.64849182e+02, 8.74021888e-01],\n",
              "        [1.50744873e+02, 2.46853928e+02, 8.83215547e-01],\n",
              "        [1.14650467e+02, 3.21853516e+02, 9.21619534e-01],\n",
              "        [6.66641617e+01, 3.70148773e+02, 8.56730223e-01],\n",
              "        [2.25662308e+02, 2.82957153e+02, 8.37257624e-01],\n",
              "        [1.53771179e+02, 3.46023163e+02, 9.17524338e-01],\n",
              "        [8.46834793e+01, 3.85085754e+02, 8.68560195e-01],\n",
              "        [1.98761566e+02, 3.97157867e+02, 8.59064877e-01],\n",
              "        [1.65767395e+02, 3.97018402e+02, 8.32187355e-01],\n",
              "        [1.50767792e+02, 5.02208038e+02, 8.58787835e-01],\n",
              "        [1.29807434e+02, 6.25379333e+02, 8.80837739e-01],\n",
              "        [2.25860199e+02, 4.00104584e+02, 8.52646410e-01],\n",
              "        [2.49761032e+02, 5.14105408e+02, 9.23809350e-01],\n",
              "        [2.58946259e+02, 6.16488525e+02, 8.33175957e-01],\n",
              "        [1.74733459e+02, 2.40888168e+02, 7.52298594e-01],\n",
              "        [1.86749680e+02, 2.49721085e+02, 8.04214239e-01],\n",
              "        [1.65732010e+02, 2.25807068e+02, 1.74548507e-01],\n",
              "        [2.10793335e+02, 2.34831192e+02, 7.08369732e-01],\n",
              "        [2.67809357e+02, 6.43505127e+02, 7.95816243e-01],\n",
              "        [2.79949646e+02, 6.40444702e+02, 8.71847212e-01],\n",
              "        [2.52937302e+02, 6.34329712e+02, 7.79117823e-01],\n",
              "        [1.26668106e+02, 6.49485840e+02, 8.36192489e-01],\n",
              "        [1.08634567e+02, 6.40485962e+02, 8.99789155e-01],\n",
              "        [1.32813675e+02, 6.37301147e+02, 7.96521068e-01]], dtype=float32),\n",
              " 2: array([[1.7768657e+02, 2.5291904e+02, 8.3336717e-01],\n",
              "        [1.8094431e+02, 2.7080545e+02, 8.8479155e-01],\n",
              "        [1.5685703e+02, 2.4992056e+02, 8.6089456e-01],\n",
              "        [1.1762302e+02, 2.7691312e+02, 8.7914896e-01],\n",
              "        [5.7468048e+01, 2.7688794e+02, 8.2394308e-01],\n",
              "        [2.0486946e+02, 2.9183786e+02, 8.4940064e-01],\n",
              "        [1.3261176e+02, 2.9784219e+02, 7.8506041e-01],\n",
              "        [4.8607430e+01, 2.7991101e+02, 6.3414723e-01],\n",
              "        [1.9867474e+02, 3.9706503e+02, 8.3397371e-01],\n",
              "        [1.6871991e+02, 3.9412183e+02, 8.2212096e-01],\n",
              "        [1.5069621e+02, 4.9615665e+02, 8.8554078e-01],\n",
              "        [1.3256546e+02, 6.2239771e+02, 8.8226789e-01],\n",
              "        [2.2570375e+02, 4.0008167e+02, 8.1138790e-01],\n",
              "        [2.4082320e+02, 5.1431329e+02, 8.7833893e-01],\n",
              "        [2.5884430e+02, 6.1945984e+02, 8.2853436e-01],\n",
              "        [1.7468820e+02, 2.4678687e+02, 7.6448816e-01],\n",
              "        [1.8378259e+02, 2.4979117e+02, 7.7806365e-01],\n",
              "        [1.5980170e+02, 2.2884114e+02, 2.8036630e-01],\n",
              "        [2.0490895e+02, 2.4382979e+02, 6.4021522e-01],\n",
              "        [2.7081082e+02, 6.4938348e+02, 8.1005448e-01],\n",
              "        [2.7998233e+02, 6.4048315e+02, 8.5435343e-01],\n",
              "        [2.5289116e+02, 6.3442133e+02, 8.1656384e-01],\n",
              "        [1.2668312e+02, 6.4945001e+02, 8.3695960e-01],\n",
              "        [1.0865372e+02, 6.4044623e+02, 8.9994603e-01],\n",
              "        [1.3567281e+02, 6.3448096e+02, 8.1174421e-01]], dtype=float32),\n",
              " 3: array([[1.71792389e+02, 2.52812378e+02, 5.58108807e-01],\n",
              "        [2.01656982e+02, 2.70780548e+02, 8.35667610e-01],\n",
              "        [2.10772614e+02, 2.43831680e+02, 6.60163999e-01],\n",
              "        [1.35665817e+02, 2.40799957e+02, 6.80337310e-01],\n",
              "        [1.23663055e+02, 1.95811325e+02, 7.68074989e-01],\n",
              "        [1.89814392e+02, 2.94866943e+02, 7.57336199e-01],\n",
              "        [1.29749847e+02, 2.55952179e+02, 8.29913914e-01],\n",
              "        [1.05630890e+02, 1.98825989e+02, 8.98093224e-01],\n",
              "        [2.01747589e+02, 3.97132782e+02, 8.82099509e-01],\n",
              "        [1.74747437e+02, 3.96974030e+02, 8.53994966e-01],\n",
              "        [1.53542664e+02, 4.96172058e+02, 8.93638492e-01],\n",
              "        [1.29825668e+02, 6.25439331e+02, 8.80690455e-01],\n",
              "        [2.28706863e+02, 4.00091248e+02, 8.42550159e-01],\n",
              "        [2.40880768e+02, 5.17160400e+02, 8.89533937e-01],\n",
              "        [2.55962234e+02, 6.19361206e+02, 8.51771593e-01],\n",
              "        [1.65707291e+02, 2.46759491e+02, 2.84663469e-01],\n",
              "        [1.80676193e+02, 2.49784485e+02, 4.49680179e-01],\n",
              "        [0.00000000e+00, 0.00000000e+00, 0.00000000e+00],\n",
              "        [2.04692810e+02, 2.49950287e+02, 5.03718436e-01],\n",
              "        [2.70809235e+02, 6.46421997e+02, 8.29950273e-01],\n",
              "        [2.79994568e+02, 6.40407532e+02, 8.84956002e-01],\n",
              "        [2.52871902e+02, 6.34351196e+02, 8.37360859e-01],\n",
              "        [1.26629013e+02, 6.49423584e+02, 8.11599135e-01],\n",
              "        [1.08631508e+02, 6.40433044e+02, 8.77753854e-01],\n",
              "        [1.32843246e+02, 6.37339233e+02, 8.10625494e-01]], dtype=float32),\n",
              " 4: array([[1.8379190e+02, 2.7679065e+02, 7.8231871e-01],\n",
              "        [2.0779848e+02, 2.9187061e+02, 8.5135412e-01],\n",
              "        [1.7777945e+02, 2.7988922e+02, 8.3196926e-01],\n",
              "        [1.5076443e+02, 3.2504626e+02, 6.6571939e-01],\n",
              "        [9.9685989e+01, 3.0989435e+02, 4.3147054e-01],\n",
              "        [2.4386482e+02, 3.0083542e+02, 8.7910146e-01],\n",
              "        [1.5685336e+02, 3.2494730e+02, 8.7973708e-01],\n",
              "        [9.0694786e+01, 3.0404211e+02, 7.9524970e-01],\n",
              "        [2.2869148e+02, 4.0314362e+02, 8.6926824e-01],\n",
              "        [2.0161200e+02, 4.0015216e+02, 8.3773768e-01],\n",
              "        [1.6275821e+02, 5.0815039e+02, 8.4306258e-01],\n",
              "        [1.3263025e+02, 6.2842865e+02, 8.8577521e-01],\n",
              "        [2.5583195e+02, 4.0608771e+02, 8.1490707e-01],\n",
              "        [2.7395111e+02, 5.1121365e+02, 9.1354680e-01],\n",
              "        [2.7084744e+02, 6.2545013e+02, 8.2278872e-01],\n",
              "        [1.8073347e+02, 2.7080554e+02, 5.8984017e-01],\n",
              "        [1.9869333e+02, 2.7086847e+02, 6.9620794e-01],\n",
              "        [0.0000000e+00, 0.0000000e+00, 0.0000000e+00],\n",
              "        [2.1980981e+02, 2.6183292e+02, 7.2027695e-01],\n",
              "        [2.7374191e+02, 6.4939691e+02, 7.8744954e-01],\n",
              "        [2.8289841e+02, 6.4344446e+02, 8.0957514e-01],\n",
              "        [2.5592653e+02, 6.3449951e+02, 7.7033478e-01],\n",
              "        [1.2661250e+02, 6.5241528e+02, 8.0591846e-01],\n",
              "        [1.0863899e+02, 6.4048181e+02, 8.7832522e-01],\n",
              "        [1.3281465e+02, 6.3742114e+02, 8.1123704e-01]], dtype=float32),\n",
              " 5: array([[1.9281357e+02, 2.7690686e+02, 7.5191903e-01],\n",
              "        [2.0782231e+02, 2.7383484e+02, 9.1067082e-01],\n",
              "        [1.5976263e+02, 2.9183624e+02, 8.5688919e-01],\n",
              "        [2.0166576e+02, 3.6690930e+02, 8.9854878e-01],\n",
              "        [2.2877838e+02, 4.2407123e+02, 9.2340517e-01],\n",
              "        [2.5299185e+02, 2.5300482e+02, 8.7875777e-01],\n",
              "        [2.7077872e+02, 3.4890991e+02, 8.9628214e-01],\n",
              "        [2.5296361e+02, 4.1820212e+02, 9.0237045e-01],\n",
              "        [2.4380907e+02, 3.9392841e+02, 7.6246321e-01],\n",
              "        [2.1082043e+02, 3.9414322e+02, 7.7745497e-01],\n",
              "        [2.0162576e+02, 4.9621622e+02, 8.6525911e-01],\n",
              "        [1.4473311e+02, 6.1637299e+02, 8.1956571e-01],\n",
              "        [2.7089285e+02, 3.9097122e+02, 7.4175084e-01],\n",
              "        [2.7387134e+02, 4.9630853e+02, 8.6003381e-01],\n",
              "        [2.7377032e+02, 6.1940973e+02, 8.5300332e-01],\n",
              "        [1.8073946e+02, 2.7383728e+02, 3.7004745e-01],\n",
              "        [1.9875613e+02, 2.7088272e+02, 7.4465191e-01],\n",
              "        [0.0000000e+00, 0.0000000e+00, 0.0000000e+00],\n",
              "        [2.1086119e+02, 2.4978741e+02, 8.3926606e-01],\n",
              "        [2.7076413e+02, 6.4346613e+02, 8.0167812e-01],\n",
              "        [2.7998386e+02, 6.4341754e+02, 8.5430813e-01],\n",
              "        [2.6782370e+02, 6.3432306e+02, 7.5601882e-01],\n",
              "        [1.2966971e+02, 6.4646210e+02, 8.4186113e-01],\n",
              "        [1.1168133e+02, 6.3739178e+02, 8.8818485e-01],\n",
              "        [1.4765402e+02, 6.3436047e+02, 7.6483846e-01]], dtype=float32),\n",
              " 6: array([[1.9870284e+02, 2.5588052e+02, 2.6869094e-01],\n",
              "        [2.1679082e+02, 2.5591927e+02, 8.1979722e-01],\n",
              "        [1.8082886e+02, 2.9490112e+02, 8.7757158e-01],\n",
              "        [2.6783084e+02, 3.3699911e+02, 7.7997267e-01],\n",
              "        [3.3403128e+02, 3.5213110e+02, 7.6347798e-01],\n",
              "        [2.4974820e+02, 2.2880121e+02, 8.6457294e-01],\n",
              "        [2.9490356e+02, 2.8296451e+02, 8.5994387e-01],\n",
              "        [3.3102673e+02, 3.4897095e+02, 8.0673671e-01],\n",
              "        [2.5281146e+02, 3.8204315e+02, 7.9755431e-01],\n",
              "        [2.2880888e+02, 3.9108722e+02, 8.1127286e-01],\n",
              "        [2.0494803e+02, 4.9925558e+02, 8.5868156e-01],\n",
              "        [1.4772893e+02, 6.1352008e+02, 8.3246034e-01],\n",
              "        [2.7679492e+02, 3.7308804e+02, 7.9604781e-01],\n",
              "        [2.7381479e+02, 4.9922864e+02, 8.5439187e-01],\n",
              "        [2.7373260e+02, 6.1641547e+02, 8.3111805e-01],\n",
              "        [1.8374672e+02, 2.5278836e+02, 1.8571961e-01],\n",
              "        [1.9881776e+02, 2.4977171e+02, 2.1175146e-01],\n",
              "        [0.0000000e+00, 0.0000000e+00, 0.0000000e+00],\n",
              "        [2.1076375e+02, 2.3186113e+02, 2.8860298e-01],\n",
              "        [2.7692960e+02, 6.4642371e+02, 7.9512227e-01],\n",
              "        [2.9776538e+02, 6.4039984e+02, 8.5755444e-01],\n",
              "        [2.5592903e+02, 6.3438422e+02, 7.8434932e-01],\n",
              "        [1.2978384e+02, 6.4647314e+02, 8.3944070e-01],\n",
              "        [1.1462536e+02, 6.3737390e+02, 8.5955805e-01],\n",
              "        [1.4470418e+02, 6.3145911e+02, 7.3671889e-01]], dtype=float32),\n",
              " 7: array([[2.9803510e+02, 1.7477328e+02, 8.9369887e-01],\n",
              "        [2.5882840e+02, 2.1976826e+02, 8.5073400e-01],\n",
              "        [3.0389691e+02, 2.1975188e+02, 8.3397245e-01],\n",
              "        [2.7989575e+02, 1.8373894e+02, 4.9353176e-01],\n",
              "        [2.3479993e+02, 1.5071402e+02, 5.4005557e-01],\n",
              "        [2.1975699e+02, 2.1682277e+02, 7.6156646e-01],\n",
              "        [1.8973453e+02, 2.0166296e+02, 8.3712828e-01],\n",
              "        [1.9869464e+02, 1.5361101e+02, 8.7461221e-01],\n",
              "        [2.5585222e+02, 3.6994257e+02, 7.6997280e-01],\n",
              "        [2.7378729e+02, 3.7002505e+02, 7.7613235e-01],\n",
              "        [2.4985396e+02, 4.9921982e+02, 8.5613650e-01],\n",
              "        [1.5680328e+02, 5.9242883e+02, 8.4488648e-01],\n",
              "        [2.4676883e+02, 3.6705478e+02, 6.8460310e-01],\n",
              "        [2.7375546e+02, 4.9918472e+02, 8.1762433e-01],\n",
              "        [2.6793253e+02, 6.1648785e+02, 8.0209166e-01],\n",
              "        [2.9187106e+02, 1.6573277e+02, 8.1251353e-01],\n",
              "        [0.0000000e+00, 0.0000000e+00, 0.0000000e+00],\n",
              "        [2.7077155e+02, 1.7777333e+02, 8.7602508e-01],\n",
              "        [0.0000000e+00, 0.0000000e+00, 0.0000000e+00],\n",
              "        [2.8295145e+02, 6.4053448e+02, 7.5068456e-01],\n",
              "        [2.9795993e+02, 6.3743903e+02, 8.9447284e-01],\n",
              "        [2.5295717e+02, 6.3731897e+02, 8.1015569e-01],\n",
              "        [1.4166583e+02, 6.5833447e+02, 7.6215142e-01],\n",
              "        [1.3264697e+02, 6.4048218e+02, 7.6060700e-01],\n",
              "        [1.4471236e+02, 5.8947626e+02, 7.3325258e-01]], dtype=float32)}"
            ]
          },
          "metadata": {
            "tags": []
          },
          "execution_count": 9
        }
      ]
    },
    {
      "cell_type": "markdown",
      "metadata": {
        "id": "MGrWcqGaGgGR"
      },
      "source": [
        "## 1번 Toe-up 자세 (Takeaway)"
      ]
    },
    {
      "cell_type": "markdown",
      "metadata": {
        "id": "K0ohNfKyGl8J"
      },
      "source": [
        "### (정면)어깨 손 삼각형 유지\r\n",
        "\r\n",
        "어드레스에서 테이크어웨이까지 양 어깨와 손이 삼각형 혹은 Y자 모양을 유지하는 것\r\n",
        "클럽 섀프트와 지면이 수평을 이루는 시점 전까지 손목의 움직임이 없어야\r\n",
        "그렇게 함으로써 풀스윙이 가능\r\n",
        "스윙 초반부터 손목의 움직임이 많으면 스윙이 작아지게 됌\r\n",
        "\r\n",
        "\r\n",
        "테이크어웨이 시에 오른 팔이 펴진 상태를 유지하는 지\r\n",
        "어깨 회전의 정도는 어떤지를 체크\r\n",
        "- 왼어깨: 5\r\n",
        "- 목: 1\r\n",
        "- 오른어깨: 2\r\n",
        "- 오른팔꿈치: 3\r\n",
        "- 손목: 4\r\n",
        "\r\n",
        "프로 선수 : 오른손 150~ 170 도 사이의 각도가 유지, 어깨 회전은 50 ~ 80 도"
      ]
    },
    {
      "cell_type": "code",
      "metadata": {
        "id": "9xsRSsXKoq2y"
      },
      "source": [
        "rarm_angle = pd.DataFrame()"
      ],
      "execution_count": 20,
      "outputs": []
    },
    {
      "cell_type": "code",
      "metadata": {
        "id": "we-mqH8vmUu8"
      },
      "source": [
        "for id, data in kp.items():\r\n",
        "  # 오른팔에서 팔꿈치의 각도\r\n",
        "  rshoulder = np.array(data[1][2])\r\n",
        "  relbow = np.array(data[1][3])\r\n",
        "  rwrist = np.array(data[1][4])\r\n",
        "  \r\n",
        "  angle = p3_angle(rshoulder, relbow, rwrist)\r\n",
        "  rarm_angle.loc[id, 'angle'] = angle"
      ],
      "execution_count": 21,
      "outputs": []
    },
    {
      "cell_type": "code",
      "metadata": {
        "colab": {
          "base_uri": "https://localhost:8080/",
          "height": 407
        },
        "id": "8htgs8pao8CB",
        "outputId": "f45f858e-e995-4ff8-f08b-8807e09dc9c0"
      },
      "source": [
        "rarm_angle"
      ],
      "execution_count": 22,
      "outputs": [
        {
          "output_type": "execute_result",
          "data": {
            "text/html": [
              "<div>\n",
              "<style scoped>\n",
              "    .dataframe tbody tr th:only-of-type {\n",
              "        vertical-align: middle;\n",
              "    }\n",
              "\n",
              "    .dataframe tbody tr th {\n",
              "        vertical-align: top;\n",
              "    }\n",
              "\n",
              "    .dataframe thead th {\n",
              "        text-align: right;\n",
              "    }\n",
              "</style>\n",
              "<table border=\"1\" class=\"dataframe\">\n",
              "  <thead>\n",
              "    <tr style=\"text-align: right;\">\n",
              "      <th></th>\n",
              "      <th>angle</th>\n",
              "    </tr>\n",
              "  </thead>\n",
              "  <tbody>\n",
              "    <tr>\n",
              "      <th>8</th>\n",
              "      <td>131.748183</td>\n",
              "    </tr>\n",
              "    <tr>\n",
              "      <th>10</th>\n",
              "      <td>156.418979</td>\n",
              "    </tr>\n",
              "    <tr>\n",
              "      <th>14</th>\n",
              "      <td>150.683181</td>\n",
              "    </tr>\n",
              "    <tr>\n",
              "      <th>19</th>\n",
              "      <td>143.729440</td>\n",
              "    </tr>\n",
              "    <tr>\n",
              "      <th>25</th>\n",
              "      <td>176.026652</td>\n",
              "    </tr>\n",
              "    <tr>\n",
              "      <th>...</th>\n",
              "      <td>...</td>\n",
              "    </tr>\n",
              "    <tr>\n",
              "      <th>1348</th>\n",
              "      <td>143.773746</td>\n",
              "    </tr>\n",
              "    <tr>\n",
              "      <th>1352</th>\n",
              "      <td>155.017646</td>\n",
              "    </tr>\n",
              "    <tr>\n",
              "      <th>1374</th>\n",
              "      <td>160.945912</td>\n",
              "    </tr>\n",
              "    <tr>\n",
              "      <th>1388</th>\n",
              "      <td>176.083606</td>\n",
              "    </tr>\n",
              "    <tr>\n",
              "      <th>1396</th>\n",
              "      <td>143.842167</td>\n",
              "    </tr>\n",
              "  </tbody>\n",
              "</table>\n",
              "<p>174 rows × 1 columns</p>\n",
              "</div>"
            ],
            "text/plain": [
              "           angle\n",
              "8     131.748183\n",
              "10    156.418979\n",
              "14    150.683181\n",
              "19    143.729440\n",
              "25    176.026652\n",
              "...          ...\n",
              "1348  143.773746\n",
              "1352  155.017646\n",
              "1374  160.945912\n",
              "1388  176.083606\n",
              "1396  143.842167\n",
              "\n",
              "[174 rows x 1 columns]"
            ]
          },
          "metadata": {
            "tags": []
          },
          "execution_count": 22
        }
      ]
    },
    {
      "cell_type": "code",
      "metadata": {
        "colab": {
          "base_uri": "https://localhost:8080/",
          "height": 319
        },
        "id": "AnInLz9vpHP4",
        "outputId": "1ea105af-dfe9-44a4-e239-3aa7d1bc5c1a"
      },
      "source": [
        "rarm_angle.hist()"
      ],
      "execution_count": 23,
      "outputs": [
        {
          "output_type": "execute_result",
          "data": {
            "text/plain": [
              "array([[<matplotlib.axes._subplots.AxesSubplot object at 0x7f50e9778e90>]],\n",
              "      dtype=object)"
            ]
          },
          "metadata": {
            "tags": []
          },
          "execution_count": 23
        },
        {
          "output_type": "display_data",
          "data": {
            "image/png": "[encoded data removed]",
            "text/plain": [
              "<Figure size 432x288 with 1 Axes>"
            ]
          },
          "metadata": {
            "tags": [],
            "needs_background": "light"
          }
        }
      ]
    },
    {
      "cell_type": "code",
      "metadata": {
        "id": "aOI_wye1qXmI"
      },
      "source": [
        "# 어깨가 얼마나 돌아갔는가"
      ],
      "execution_count": 24,
      "outputs": []
    },
    {
      "cell_type": "code",
      "metadata": {
        "id": "am6rjzO4uExG"
      },
      "source": [
        "shoulder_rotate = pd.DataFrame()"
      ],
      "execution_count": 33,
      "outputs": []
    },
    {
      "cell_type": "code",
      "metadata": {
        "id": "rWWQef6iqbBp"
      },
      "source": [
        "for id, data in kp.items():\r\n",
        "  rshoulder = np.array(data[1][5])\r\n",
        "  neck = np.array(data[1][1])\r\n",
        "  parallel = np.array(rshoulder[0], neck[1])\r\n",
        "\r\n",
        "  angle = p3_angle(rshoulder, neck, parallel)\r\n",
        "  shoulder_rotate.loc[id, 'angle'] = angle"
      ],
      "execution_count": 34,
      "outputs": []
    },
    {
      "cell_type": "code",
      "metadata": {
        "colab": {
          "base_uri": "https://localhost:8080/",
          "height": 319
        },
        "id": "BuL4epc3uNu9",
        "outputId": "804f5524-d708-42af-904b-24aef43193a7"
      },
      "source": [
        "shoulder_rotate.hist()"
      ],
      "execution_count": 35,
      "outputs": [
        {
          "output_type": "execute_result",
          "data": {
            "text/plain": [
              "array([[<matplotlib.axes._subplots.AxesSubplot object at 0x7f50e9191850>]],\n",
              "      dtype=object)"
            ]
          },
          "metadata": {
            "tags": []
          },
          "execution_count": 35
        },
        {
          "output_type": "display_data",
          "data": {
            "image/png": "[encoded data removed]",
            "text/plain": [
              "<Figure size 432x288 with 1 Axes>"
            ]
          },
          "metadata": {
            "tags": [],
            "needs_background": "light"
          }
        }
      ]
    },
    {
      "cell_type": "markdown",
      "metadata": {
        "id": "qQbbXiKBesQB"
      },
      "source": [
        "## 2번 Backswing 자세"
      ]
    },
    {
      "cell_type": "markdown",
      "metadata": {
        "id": "UOI8YsSLew0Y"
      },
      "source": [
        "### (정면)왼 발이 땅에서 떨어지면 안됌\r\n",
        "\r\n",
        "어드레스 시 왼 발의 좌표와 백스윙 시 좌표를 비교\r\n",
        "- 발꿈치: 21\r\n",
        "- 발목 : 14"
      ]
    },
    {
      "cell_type": "code",
      "metadata": {
        "id": "BYmj-lDwfN4q"
      },
      "source": [
        "for id, data in kp.items():\r\n",
        "  lf_address = np.array(data[0][21])\r\n",
        "  lf_backswing = np.array(data[2][21])\r\n",
        "  print(lf_address - lf_backswing)"
      ],
      "execution_count": null,
      "outputs": []
    },
    {
      "cell_type": "markdown",
      "metadata": {
        "id": "kbBhhMiWYYJt"
      },
      "source": [
        "## 3번 Top 자세"
      ]
    },
    {
      "cell_type": "markdown",
      "metadata": {
        "id": "LgU-sZB2C8bh"
      },
      "source": [
        "### (정면)왼팔의 구부러짐\r\n",
        "openpose keypoints\r\n",
        "오른팔 5, 6, 7\r\n",
        "왼팔  2, 3, 4\r\n",
        "\r\n",
        "https://www.golfdistillery.com/swing-thoughts/backswing/keep-left-arm-straight/\r\n",
        "\r\n",
        "손을 몸에서 가장 멀리 밀면 스윙하는 동안 손이 가장 먼 거리를 이동하게 된다.\r\n",
        "또한, 왼팔이 구부러지지 않게 하면 샷의 일관성과 신뢰성이 향상된다.\r\n",
        "유연성이 좋지 않거나 고령의 골퍼의 경우 팔꿈치를 약간 구부리는 것으로 거리를 조금 더 낼 수 있으므로 약간의 구부러짐은 허용된다.\r\n",
        "\r\n",
        "어깨, 팔꿈치, 손목 3개의 좌표의 각도를 비교한다.\r\n",
        "5번, 6번, 7번\r\n",
        "https://manivannan-ai.medium.com/find-the-angle-between-three-points-from-2d-using-python-348c513e2cd\r\n"
      ]
    },
    {
      "cell_type": "code",
      "metadata": {
        "id": "drxB5CWNEuGC"
      },
      "source": [
        "# 키 포인트를 담을 df\r\n",
        "left_arm_kp = pd.DataFrame()"
      ],
      "execution_count": 46,
      "outputs": []
    },
    {
      "cell_type": "code",
      "metadata": {
        "colab": {
          "base_uri": "https://localhost:8080/"
        },
        "id": "QvuBJ8s9BNs_",
        "outputId": "0f232526-c63b-4309-fe18-d2332770e813"
      },
      "source": [
        "for id, points in kp.items():\r\n",
        "  # print(id)\r\n",
        "  p = points[3] # top 자세에서 모든 관절 keypoints\r\n",
        "  # print(p[5]) # top 자세에서 5번 관절(왼쪽 어깨)\r\n",
        "\r\n",
        "  left_arm_kp.loc[id, '5x'] = p[5][0] # x 좌표\r\n",
        "  left_arm_kp.loc[id, '5y'] = p[5][1] # y 좌표\r\n",
        "\r\n",
        "  left_arm_kp.loc[id, '6x'] = p[6][0] # x 좌표\r\n",
        "  left_arm_kp.loc[id, '6y'] = p[6][1] # y 좌표\r\n",
        "\r\n",
        "  left_arm_kp.loc[id, '7x'] = p[7][0] # x 좌표\r\n",
        "  left_arm_kp.loc[id, '7y'] = p[7][1] # y 좌표\r\n",
        "\r\n",
        "  angle = p3_angle(np.array(p[5]), np.array(p[6]), np.array(p[7]))\r\n",
        "  left_arm_kp.loc[id, 'angle'] = angle # 3 점 사이 각도"
      ],
      "execution_count": 47,
      "outputs": [
        {
          "output_type": "stream",
          "text": [
            "/usr/local/lib/python3.7/dist-packages/ipykernel_launcher.py:9: RuntimeWarning: invalid value encountered in double_scalars\n",
            "  if __name__ == '__main__':\n"
          ],
          "name": "stderr"
        }
      ]
    },
    {
      "cell_type": "code",
      "metadata": {
        "id": "i83P1YZDInhB",
        "colab": {
          "base_uri": "https://localhost:8080/"
        },
        "outputId": "8f2add50-4450-45d4-b739-773c4c435e67"
      },
      "source": [
        "for i in left_arm_kp['angle']:\r\n",
        "  print(i)"
      ],
      "execution_count": 48,
      "outputs": [
        {
          "output_type": "stream",
          "text": [
            "116.05113369717623\n",
            "175.93708941336203\n",
            "97.32858686761733\n",
            "47.00306192816498\n",
            "145.9996095673303\n",
            "98.42144090428576\n",
            "138.08299634685147\n",
            "98.4047322828043\n",
            "51.26862641514376\n",
            "94.49941498207838\n",
            "166.87499651995765\n",
            "122.50375550247202\n",
            "150.81851579765194\n",
            "171.86610283918932\n",
            "83.30500345117031\n",
            "141.1420845227078\n",
            "nan\n",
            "50.685283714990256\n",
            "85.50873176762228\n",
            "130.52892647252577\n",
            "137.14323269806604\n",
            "133.83374423572724\n",
            "120.70916415410812\n",
            "148.4732240661596\n",
            "119.30870583062794\n",
            "97.04090052760527\n",
            "107.05351950841619\n",
            "22.283879345679416\n",
            "124.25013703096131\n",
            "86.45289469399951\n",
            "32.8985974118709\n",
            "124.15960990164226\n",
            "nan\n",
            "80.3387303122059\n",
            "13.81435411881553\n",
            "nan\n",
            "159.0871591953419\n",
            "159.3980458724972\n",
            "114.03434419474772\n",
            "106.66376050269648\n",
            "37.973910879463\n",
            "170.62032768178278\n",
            "81.78131457876671\n",
            "nan\n",
            "156.8712294242799\n",
            "95.27042571253003\n",
            "125.40369327963275\n",
            "70.36895905611975\n",
            "90.03412259310231\n",
            "106.56955964782341\n",
            "148.8181388500588\n",
            "114.18143611257366\n",
            "99.29874289772027\n",
            "106.15432178223276\n",
            "153.77060524432267\n",
            "37.38898532077274\n",
            "116.83998964052043\n",
            "85.51737537875692\n",
            "108.34415660934424\n",
            "68.53908880038618\n",
            "28.06838753990587\n",
            "59.24985117161898\n",
            "117.84276493487936\n",
            "156.44003726016504\n",
            "51.80493991197428\n",
            "79.2359274753864\n",
            "130.7354870781292\n",
            "nan\n",
            "45.267740198850504\n",
            "72.0284772682375\n",
            "108.64038107429651\n",
            "94.63431763835229\n",
            "51.834335685682355\n",
            "146.07910699816625\n",
            "123.94063601028968\n",
            "93.7853838305225\n",
            "108.38838229584015\n",
            "48.4119466944954\n",
            "129.15837621067573\n",
            "145.48736384173185\n",
            "128.46366040843287\n",
            "123.07151662693653\n",
            "110.18157643069246\n",
            "86.10057105766667\n",
            "171.62239107978775\n",
            "64.2427331213865\n",
            "132.28464313777297\n",
            "91.61473082928653\n",
            "110.37373936381155\n",
            "171.00177704468797\n",
            "129.9943461400977\n",
            "121.32325643711812\n",
            "134.34613193234762\n",
            "124.79191727929326\n",
            "113.83345933471894\n",
            "71.87836878849258\n",
            "114.95082717616346\n",
            "175.763167040758\n",
            "150.50229467206566\n",
            "152.44416998308665\n",
            "24.683630735798054\n",
            "82.28816356514818\n",
            "111.32264349101672\n",
            "87.98025206238329\n",
            "175.90908671105814\n",
            "69.29110662094529\n",
            "109.42539659929075\n",
            "131.252327562731\n",
            "61.75375923979033\n",
            "129.73568625947843\n",
            "174.15382274615857\n",
            "171.03698257157217\n",
            "142.63028763461918\n",
            "33.98424550355823\n",
            "136.299087234444\n",
            "47.89402819415779\n",
            "126.50981188409737\n",
            "146.79491829789848\n",
            "127.51906090272853\n",
            "49.059517889485406\n",
            "83.1687717165769\n",
            "111.43898765789879\n",
            "146.50503060172198\n",
            "113.08537158740664\n",
            "136.36646842422894\n",
            "53.557687675048456\n",
            "83.02777669182177\n",
            "140.4751761151701\n",
            "69.10414074891654\n",
            "163.2197186235237\n",
            "178.08062523796815\n",
            "72.94004527139518\n",
            "111.37857945017979\n",
            "131.0664526023013\n",
            "129.99639876486773\n",
            "24.133451966038074\n",
            "117.33636212019812\n",
            "82.53679411226065\n",
            "60.264390844165405\n",
            "97.45654682919229\n",
            "115.18614100835083\n",
            "75.02147101424869\n",
            "85.030365438\n",
            "115.41188493060152\n",
            "33.30053148394682\n",
            "92.08906967515335\n",
            "43.582268924563714\n",
            "79.51856506590677\n",
            "86.16383110378594\n",
            "70.10277700567265\n",
            "126.71829896287565\n",
            "122.81361556363095\n",
            "57.086576499713786\n",
            "173.71975592854346\n",
            "59.78603122812375\n",
            "103.99145100916999\n",
            "90.10886193004693\n",
            "17.740142679176135\n",
            "71.4824707802735\n",
            "176.76192449744548\n",
            "78.45958384108344\n",
            "82.95261339062792\n",
            "165.53267281113338\n",
            "169.20539203578105\n",
            "148.5929489690256\n",
            "nan\n",
            "78.46413431472875\n",
            "102.34137443801332\n",
            "97.30362910775966\n",
            "109.61212644869109\n",
            "3.795508129053262\n",
            "nan\n",
            "112.43826034613642\n",
            "100.76047375263055\n"
          ],
          "name": "stdout"
        }
      ]
    },
    {
      "cell_type": "code",
      "metadata": {
        "colab": {
          "base_uri": "https://localhost:8080/"
        },
        "id": "Jb1wfp17BPYj",
        "outputId": "0141bf00-81d2-4e7c-d70d-39f8ced31f23"
      },
      "source": [
        "left_arm_kp['angle'].isnull().value_counts()"
      ],
      "execution_count": 49,
      "outputs": [
        {
          "output_type": "execute_result",
          "data": {
            "text/plain": [
              "False    167\n",
              "True       7\n",
              "Name: angle, dtype: int64"
            ]
          },
          "metadata": {
            "tags": []
          },
          "execution_count": 49
        }
      ]
    },
    {
      "cell_type": "code",
      "metadata": {
        "colab": {
          "base_uri": "https://localhost:8080/",
          "height": 360
        },
        "id": "4atBTR5uFUTL",
        "outputId": "cba2cf73-35ae-496f-b3d7-4f57fd58c407"
      },
      "source": [
        "plt.hist(left_arm_kp['angle'])"
      ],
      "execution_count": 50,
      "outputs": [
        {
          "output_type": "execute_result",
          "data": {
            "text/plain": [
              "(array([ 3.,  9., 11., 15., 22., 21., 32., 22., 16., 16.]),\n",
              " array([  3.79550813,  21.22401984,  38.65253155,  56.08104326,\n",
              "         73.50955497,  90.93806668, 108.36657839, 125.79509011,\n",
              "        143.22360182, 160.65211353, 178.08062524]),\n",
              " <a list of 10 Patch objects>)"
            ]
          },
          "metadata": {
            "tags": []
          },
          "execution_count": 50
        },
        {
          "output_type": "display_data",
          "data": {
            "image/png": "[encoded data removed]",
            "text/plain": [
              "<Figure size 432x288 with 1 Axes>"
            ]
          },
          "metadata": {
            "tags": [],
            "needs_background": "light"
          }
        }
      ]
    },
    {
      "cell_type": "code",
      "metadata": {
        "colab": {
          "base_uri": "https://localhost:8080/",
          "height": 588
        },
        "id": "v9yK7y3Vch1t",
        "outputId": "eaf4a0ab-88fd-42c8-9e8f-556768e38ce2"
      },
      "source": [
        "left_arm_kp.loc[left_arm_kp['angle'] < 50]"
      ],
      "execution_count": 51,
      "outputs": [
        {
          "output_type": "execute_result",
          "data": {
            "text/html": [
              "<div>\n",
              "<style scoped>\n",
              "    .dataframe tbody tr th:only-of-type {\n",
              "        vertical-align: middle;\n",
              "    }\n",
              "\n",
              "    .dataframe tbody tr th {\n",
              "        vertical-align: top;\n",
              "    }\n",
              "\n",
              "    .dataframe thead th {\n",
              "        text-align: right;\n",
              "    }\n",
              "</style>\n",
              "<table border=\"1\" class=\"dataframe\">\n",
              "  <thead>\n",
              "    <tr style=\"text-align: right;\">\n",
              "      <th></th>\n",
              "      <th>5x</th>\n",
              "      <th>5y</th>\n",
              "      <th>6x</th>\n",
              "      <th>6y</th>\n",
              "      <th>7x</th>\n",
              "      <th>7y</th>\n",
              "      <th>angle</th>\n",
              "    </tr>\n",
              "  </thead>\n",
              "  <tbody>\n",
              "    <tr>\n",
              "      <th>19</th>\n",
              "      <td>0.489608</td>\n",
              "      <td>0.402498</td>\n",
              "      <td>0.489616</td>\n",
              "      <td>0.454212</td>\n",
              "      <td>0.448864</td>\n",
              "      <td>0.416226</td>\n",
              "      <td>47.003062</td>\n",
              "    </tr>\n",
              "    <tr>\n",
              "      <th>231</th>\n",
              "      <td>0.541196</td>\n",
              "      <td>0.402547</td>\n",
              "      <td>0.562903</td>\n",
              "      <td>0.440664</td>\n",
              "      <td>0.000000</td>\n",
              "      <td>0.000000</td>\n",
              "      <td>22.283879</td>\n",
              "    </tr>\n",
              "    <tr>\n",
              "      <th>248</th>\n",
              "      <td>0.500429</td>\n",
              "      <td>0.340054</td>\n",
              "      <td>0.516724</td>\n",
              "      <td>0.383610</td>\n",
              "      <td>0.000000</td>\n",
              "      <td>0.000000</td>\n",
              "      <td>32.898597</td>\n",
              "    </tr>\n",
              "    <tr>\n",
              "      <th>273</th>\n",
              "      <td>0.530321</td>\n",
              "      <td>0.402625</td>\n",
              "      <td>0.535805</td>\n",
              "      <td>0.448791</td>\n",
              "      <td>0.511325</td>\n",
              "      <td>0.383624</td>\n",
              "      <td>13.814354</td>\n",
              "    </tr>\n",
              "    <tr>\n",
              "      <th>287</th>\n",
              "      <td>0.500429</td>\n",
              "      <td>0.359096</td>\n",
              "      <td>0.514015</td>\n",
              "      <td>0.416205</td>\n",
              "      <td>0.486805</td>\n",
              "      <td>0.394449</td>\n",
              "      <td>37.973911</td>\n",
              "    </tr>\n",
              "    <tr>\n",
              "      <th>408</th>\n",
              "      <td>0.489550</td>\n",
              "      <td>0.399896</td>\n",
              "      <td>0.500425</td>\n",
              "      <td>0.462372</td>\n",
              "      <td>0.000000</td>\n",
              "      <td>0.000000</td>\n",
              "      <td>37.388985</td>\n",
              "    </tr>\n",
              "    <tr>\n",
              "      <th>440</th>\n",
              "      <td>0.516763</td>\n",
              "      <td>0.367344</td>\n",
              "      <td>0.514116</td>\n",
              "      <td>0.424362</td>\n",
              "      <td>0.492175</td>\n",
              "      <td>0.378176</td>\n",
              "      <td>28.068388</td>\n",
              "    </tr>\n",
              "    <tr>\n",
              "      <th>492</th>\n",
              "      <td>0.492413</td>\n",
              "      <td>0.389066</td>\n",
              "      <td>0.495063</td>\n",
              "      <td>0.448713</td>\n",
              "      <td>0.000000</td>\n",
              "      <td>0.000000</td>\n",
              "      <td>45.267740</td>\n",
              "    </tr>\n",
              "    <tr>\n",
              "      <th>551</th>\n",
              "      <td>0.513989</td>\n",
              "      <td>0.408116</td>\n",
              "      <td>0.511247</td>\n",
              "      <td>0.421550</td>\n",
              "      <td>0.486872</td>\n",
              "      <td>0.389057</td>\n",
              "      <td>48.411947</td>\n",
              "    </tr>\n",
              "    <tr>\n",
              "      <th>789</th>\n",
              "      <td>0.476033</td>\n",
              "      <td>0.421588</td>\n",
              "      <td>0.478724</td>\n",
              "      <td>0.503185</td>\n",
              "      <td>0.443391</td>\n",
              "      <td>0.432542</td>\n",
              "      <td>24.683631</td>\n",
              "    </tr>\n",
              "    <tr>\n",
              "      <th>875</th>\n",
              "      <td>0.500449</td>\n",
              "      <td>0.399819</td>\n",
              "      <td>0.514041</td>\n",
              "      <td>0.451563</td>\n",
              "      <td>0.000000</td>\n",
              "      <td>0.000000</td>\n",
              "      <td>33.984246</td>\n",
              "    </tr>\n",
              "    <tr>\n",
              "      <th>885</th>\n",
              "      <td>0.511216</td>\n",
              "      <td>0.361758</td>\n",
              "      <td>0.514022</td>\n",
              "      <td>0.424263</td>\n",
              "      <td>0.000000</td>\n",
              "      <td>0.000000</td>\n",
              "      <td>47.894028</td>\n",
              "    </tr>\n",
              "    <tr>\n",
              "      <th>909</th>\n",
              "      <td>0.495043</td>\n",
              "      <td>0.405345</td>\n",
              "      <td>0.554743</td>\n",
              "      <td>0.375432</td>\n",
              "      <td>0.508557</td>\n",
              "      <td>0.356352</td>\n",
              "      <td>49.059518</td>\n",
              "    </tr>\n",
              "    <tr>\n",
              "      <th>1030</th>\n",
              "      <td>0.492299</td>\n",
              "      <td>0.356403</td>\n",
              "      <td>0.505854</td>\n",
              "      <td>0.359096</td>\n",
              "      <td>0.000000</td>\n",
              "      <td>0.000000</td>\n",
              "      <td>24.133452</td>\n",
              "    </tr>\n",
              "    <tr>\n",
              "      <th>1113</th>\n",
              "      <td>0.505826</td>\n",
              "      <td>0.388998</td>\n",
              "      <td>0.524874</td>\n",
              "      <td>0.456963</td>\n",
              "      <td>0.000000</td>\n",
              "      <td>0.000000</td>\n",
              "      <td>33.300531</td>\n",
              "    </tr>\n",
              "    <tr>\n",
              "      <th>1162</th>\n",
              "      <td>0.486822</td>\n",
              "      <td>0.340075</td>\n",
              "      <td>0.473275</td>\n",
              "      <td>0.402567</td>\n",
              "      <td>0.435236</td>\n",
              "      <td>0.340129</td>\n",
              "      <td>43.582269</td>\n",
              "    </tr>\n",
              "    <tr>\n",
              "      <th>1235</th>\n",
              "      <td>0.511335</td>\n",
              "      <td>0.364619</td>\n",
              "      <td>0.527546</td>\n",
              "      <td>0.405347</td>\n",
              "      <td>0.489496</td>\n",
              "      <td>0.359097</td>\n",
              "      <td>17.740143</td>\n",
              "    </tr>\n",
              "    <tr>\n",
              "      <th>1352</th>\n",
              "      <td>0.503102</td>\n",
              "      <td>0.424411</td>\n",
              "      <td>0.505843</td>\n",
              "      <td>0.427055</td>\n",
              "      <td>0.000000</td>\n",
              "      <td>0.000000</td>\n",
              "      <td>3.795508</td>\n",
              "    </tr>\n",
              "  </tbody>\n",
              "</table>\n",
              "</div>"
            ],
            "text/plain": [
              "            5x        5y        6x        6y        7x        7y      angle\n",
              "19    0.489608  0.402498  0.489616  0.454212  0.448864  0.416226  47.003062\n",
              "231   0.541196  0.402547  0.562903  0.440664  0.000000  0.000000  22.283879\n",
              "248   0.500429  0.340054  0.516724  0.383610  0.000000  0.000000  32.898597\n",
              "273   0.530321  0.402625  0.535805  0.448791  0.511325  0.383624  13.814354\n",
              "287   0.500429  0.359096  0.514015  0.416205  0.486805  0.394449  37.973911\n",
              "408   0.489550  0.399896  0.500425  0.462372  0.000000  0.000000  37.388985\n",
              "440   0.516763  0.367344  0.514116  0.424362  0.492175  0.378176  28.068388\n",
              "492   0.492413  0.389066  0.495063  0.448713  0.000000  0.000000  45.267740\n",
              "551   0.513989  0.408116  0.511247  0.421550  0.486872  0.389057  48.411947\n",
              "789   0.476033  0.421588  0.478724  0.503185  0.443391  0.432542  24.683631\n",
              "875   0.500449  0.399819  0.514041  0.451563  0.000000  0.000000  33.984246\n",
              "885   0.511216  0.361758  0.514022  0.424263  0.000000  0.000000  47.894028\n",
              "909   0.495043  0.405345  0.554743  0.375432  0.508557  0.356352  49.059518\n",
              "1030  0.492299  0.356403  0.505854  0.359096  0.000000  0.000000  24.133452\n",
              "1113  0.505826  0.388998  0.524874  0.456963  0.000000  0.000000  33.300531\n",
              "1162  0.486822  0.340075  0.473275  0.402567  0.435236  0.340129  43.582269\n",
              "1235  0.511335  0.364619  0.527546  0.405347  0.489496  0.359097  17.740143\n",
              "1352  0.503102  0.424411  0.505843  0.427055  0.000000  0.000000   3.795508"
            ]
          },
          "metadata": {
            "tags": []
          },
          "execution_count": 51
        }
      ]
    },
    {
      "cell_type": "markdown",
      "metadata": {
        "id": "KXIVcaM-cld7"
      },
      "source": [
        "각도가 비정상적으로 작은 경우\r\n",
        "openpose 좌표가 문제인 경우이다.\r\n",
        "사진으로 확인해보면 제대로 된 관절 좌표가 찍히지 않았다.\r\n",
        "백스윙 시에는 몸이 최대로 회전해 왼쪽 어깨가 오른쪽으로, 오른쪽 어깨가 왼쪽으로 돌아가므로 오픈포즈가 왼 어깨를 오른 어깨로 인식하는 등 오류가 발생\r\n",
        "\r\n",
        "현재 비디오는 화질이 낮아서 고화질의 비디오를 오픈 포즈에 넣었을 때 오류가 줄어드는 지 체크해봐야한다."
      ]
    },
    {
      "cell_type": "code",
      "metadata": {
        "colab": {
          "base_uri": "https://localhost:8080/",
          "height": 768
        },
        "id": "JhkTdSSrIzpe",
        "outputId": "7323cef1-de6b-4603-8fce-82a96943d57c"
      },
      "source": [
        "left_arm_kp.loc[left_arm_kp['angle'] > 150]"
      ],
      "execution_count": 52,
      "outputs": [
        {
          "output_type": "execute_result",
          "data": {
            "text/html": [
              "<div>\n",
              "<style scoped>\n",
              "    .dataframe tbody tr th:only-of-type {\n",
              "        vertical-align: middle;\n",
              "    }\n",
              "\n",
              "    .dataframe tbody tr th {\n",
              "        vertical-align: top;\n",
              "    }\n",
              "\n",
              "    .dataframe thead th {\n",
              "        text-align: right;\n",
              "    }\n",
              "</style>\n",
              "<table border=\"1\" class=\"dataframe\">\n",
              "  <thead>\n",
              "    <tr style=\"text-align: right;\">\n",
              "      <th></th>\n",
              "      <th>5x</th>\n",
              "      <th>5y</th>\n",
              "      <th>6x</th>\n",
              "      <th>6y</th>\n",
              "      <th>7x</th>\n",
              "      <th>7y</th>\n",
              "      <th>angle</th>\n",
              "    </tr>\n",
              "  </thead>\n",
              "  <tbody>\n",
              "    <tr>\n",
              "      <th>10</th>\n",
              "      <td>0.475977</td>\n",
              "      <td>0.410752</td>\n",
              "      <td>0.492200</td>\n",
              "      <td>0.473279</td>\n",
              "      <td>0.503163</td>\n",
              "      <td>0.505840</td>\n",
              "      <td>175.937089</td>\n",
              "    </tr>\n",
              "    <tr>\n",
              "      <th>74</th>\n",
              "      <td>0.511299</td>\n",
              "      <td>0.337486</td>\n",
              "      <td>0.489532</td>\n",
              "      <td>0.329219</td>\n",
              "      <td>0.000000</td>\n",
              "      <td>0.000000</td>\n",
              "      <td>166.874997</td>\n",
              "    </tr>\n",
              "    <tr>\n",
              "      <th>127</th>\n",
              "      <td>0.427062</td>\n",
              "      <td>0.383555</td>\n",
              "      <td>0.402697</td>\n",
              "      <td>0.340020</td>\n",
              "      <td>0.402657</td>\n",
              "      <td>0.296542</td>\n",
              "      <td>150.818516</td>\n",
              "    </tr>\n",
              "    <tr>\n",
              "      <th>150</th>\n",
              "      <td>0.495038</td>\n",
              "      <td>0.361882</td>\n",
              "      <td>0.497668</td>\n",
              "      <td>0.315675</td>\n",
              "      <td>0.505882</td>\n",
              "      <td>0.274907</td>\n",
              "      <td>171.866103</td>\n",
              "    </tr>\n",
              "    <tr>\n",
              "      <th>276</th>\n",
              "      <td>0.486887</td>\n",
              "      <td>0.321061</td>\n",
              "      <td>0.443388</td>\n",
              "      <td>0.310166</td>\n",
              "      <td>0.000000</td>\n",
              "      <td>0.000000</td>\n",
              "      <td>159.087159</td>\n",
              "    </tr>\n",
              "    <tr>\n",
              "      <th>277</th>\n",
              "      <td>0.465030</td>\n",
              "      <td>0.356400</td>\n",
              "      <td>0.435238</td>\n",
              "      <td>0.299309</td>\n",
              "      <td>0.426967</td>\n",
              "      <td>0.231508</td>\n",
              "      <td>159.398046</td>\n",
              "    </tr>\n",
              "    <tr>\n",
              "      <th>297</th>\n",
              "      <td>0.541190</td>\n",
              "      <td>0.413521</td>\n",
              "      <td>0.533088</td>\n",
              "      <td>0.388997</td>\n",
              "      <td>0.527559</td>\n",
              "      <td>0.353699</td>\n",
              "      <td>170.620328</td>\n",
              "    </tr>\n",
              "    <tr>\n",
              "      <th>328</th>\n",
              "      <td>0.492362</td>\n",
              "      <td>0.402533</td>\n",
              "      <td>0.470538</td>\n",
              "      <td>0.364616</td>\n",
              "      <td>0.437917</td>\n",
              "      <td>0.340081</td>\n",
              "      <td>156.871229</td>\n",
              "    </tr>\n",
              "    <tr>\n",
              "      <th>392</th>\n",
              "      <td>0.535703</td>\n",
              "      <td>0.378133</td>\n",
              "      <td>0.514004</td>\n",
              "      <td>0.369964</td>\n",
              "      <td>0.473288</td>\n",
              "      <td>0.326516</td>\n",
              "      <td>153.770605</td>\n",
              "    </tr>\n",
              "    <tr>\n",
              "      <th>462</th>\n",
              "      <td>0.543884</td>\n",
              "      <td>0.359191</td>\n",
              "      <td>0.532989</td>\n",
              "      <td>0.340184</td>\n",
              "      <td>0.530304</td>\n",
              "      <td>0.315714</td>\n",
              "      <td>156.440037</td>\n",
              "    </tr>\n",
              "    <tr>\n",
              "      <th>640</th>\n",
              "      <td>0.467896</td>\n",
              "      <td>0.369948</td>\n",
              "      <td>0.505868</td>\n",
              "      <td>0.424336</td>\n",
              "      <td>0.527555</td>\n",
              "      <td>0.467750</td>\n",
              "      <td>171.622391</td>\n",
              "    </tr>\n",
              "    <tr>\n",
              "      <th>682</th>\n",
              "      <td>0.511247</td>\n",
              "      <td>0.369997</td>\n",
              "      <td>0.492237</td>\n",
              "      <td>0.340167</td>\n",
              "      <td>0.473266</td>\n",
              "      <td>0.296558</td>\n",
              "      <td>171.001777</td>\n",
              "    </tr>\n",
              "    <tr>\n",
              "      <th>773</th>\n",
              "      <td>0.489595</td>\n",
              "      <td>0.359165</td>\n",
              "      <td>0.475992</td>\n",
              "      <td>0.342830</td>\n",
              "      <td>0.462392</td>\n",
              "      <td>0.323798</td>\n",
              "      <td>175.763167</td>\n",
              "    </tr>\n",
              "    <tr>\n",
              "      <th>781</th>\n",
              "      <td>0.459689</td>\n",
              "      <td>0.359033</td>\n",
              "      <td>0.386330</td>\n",
              "      <td>0.331932</td>\n",
              "      <td>0.356384</td>\n",
              "      <td>0.296529</td>\n",
              "      <td>150.502295</td>\n",
              "    </tr>\n",
              "    <tr>\n",
              "      <th>785</th>\n",
              "      <td>0.481433</td>\n",
              "      <td>0.405225</td>\n",
              "      <td>0.470598</td>\n",
              "      <td>0.361915</td>\n",
              "      <td>0.448867</td>\n",
              "      <td>0.337440</td>\n",
              "      <td>152.444170</td>\n",
              "    </tr>\n",
              "    <tr>\n",
              "      <th>830</th>\n",
              "      <td>0.530281</td>\n",
              "      <td>0.386295</td>\n",
              "      <td>0.549350</td>\n",
              "      <td>0.443374</td>\n",
              "      <td>0.562888</td>\n",
              "      <td>0.475954</td>\n",
              "      <td>175.909087</td>\n",
              "    </tr>\n",
              "    <tr>\n",
              "      <th>856</th>\n",
              "      <td>0.519406</td>\n",
              "      <td>0.380911</td>\n",
              "      <td>0.535880</td>\n",
              "      <td>0.315555</td>\n",
              "      <td>0.557570</td>\n",
              "      <td>0.255942</td>\n",
              "      <td>174.153823</td>\n",
              "    </tr>\n",
              "    <tr>\n",
              "      <th>859</th>\n",
              "      <td>0.505857</td>\n",
              "      <td>0.359005</td>\n",
              "      <td>0.494967</td>\n",
              "      <td>0.318330</td>\n",
              "      <td>0.484098</td>\n",
              "      <td>0.293862</td>\n",
              "      <td>171.036983</td>\n",
              "    </tr>\n",
              "    <tr>\n",
              "      <th>991</th>\n",
              "      <td>0.492294</td>\n",
              "      <td>0.380963</td>\n",
              "      <td>0.492296</td>\n",
              "      <td>0.337418</td>\n",
              "      <td>0.484093</td>\n",
              "      <td>0.310210</td>\n",
              "      <td>163.219719</td>\n",
              "    </tr>\n",
              "    <tr>\n",
              "      <th>1003</th>\n",
              "      <td>0.489615</td>\n",
              "      <td>0.348278</td>\n",
              "      <td>0.467741</td>\n",
              "      <td>0.315643</td>\n",
              "      <td>0.432540</td>\n",
              "      <td>0.266749</td>\n",
              "      <td>178.080625</td>\n",
              "    </tr>\n",
              "    <tr>\n",
              "      <th>1199</th>\n",
              "      <td>0.527595</td>\n",
              "      <td>0.378145</td>\n",
              "      <td>0.530335</td>\n",
              "      <td>0.350950</td>\n",
              "      <td>0.530235</td>\n",
              "      <td>0.340076</td>\n",
              "      <td>173.719756</td>\n",
              "    </tr>\n",
              "    <tr>\n",
              "      <th>1249</th>\n",
              "      <td>0.467779</td>\n",
              "      <td>0.418848</td>\n",
              "      <td>0.435197</td>\n",
              "      <td>0.394416</td>\n",
              "      <td>0.386291</td>\n",
              "      <td>0.361890</td>\n",
              "      <td>176.761924</td>\n",
              "    </tr>\n",
              "    <tr>\n",
              "      <th>1278</th>\n",
              "      <td>0.481413</td>\n",
              "      <td>0.310218</td>\n",
              "      <td>0.467740</td>\n",
              "      <td>0.318380</td>\n",
              "      <td>0.421652</td>\n",
              "      <td>0.331916</td>\n",
              "      <td>165.532673</td>\n",
              "    </tr>\n",
              "    <tr>\n",
              "      <th>1290</th>\n",
              "      <td>0.484098</td>\n",
              "      <td>0.386248</td>\n",
              "      <td>0.495004</td>\n",
              "      <td>0.443357</td>\n",
              "      <td>0.495012</td>\n",
              "      <td>0.470499</td>\n",
              "      <td>169.205392</td>\n",
              "    </tr>\n",
              "  </tbody>\n",
              "</table>\n",
              "</div>"
            ],
            "text/plain": [
              "            5x        5y        6x        6y        7x        7y       angle\n",
              "10    0.475977  0.410752  0.492200  0.473279  0.503163  0.505840  175.937089\n",
              "74    0.511299  0.337486  0.489532  0.329219  0.000000  0.000000  166.874997\n",
              "127   0.427062  0.383555  0.402697  0.340020  0.402657  0.296542  150.818516\n",
              "150   0.495038  0.361882  0.497668  0.315675  0.505882  0.274907  171.866103\n",
              "276   0.486887  0.321061  0.443388  0.310166  0.000000  0.000000  159.087159\n",
              "277   0.465030  0.356400  0.435238  0.299309  0.426967  0.231508  159.398046\n",
              "297   0.541190  0.413521  0.533088  0.388997  0.527559  0.353699  170.620328\n",
              "328   0.492362  0.402533  0.470538  0.364616  0.437917  0.340081  156.871229\n",
              "392   0.535703  0.378133  0.514004  0.369964  0.473288  0.326516  153.770605\n",
              "462   0.543884  0.359191  0.532989  0.340184  0.530304  0.315714  156.440037\n",
              "640   0.467896  0.369948  0.505868  0.424336  0.527555  0.467750  171.622391\n",
              "682   0.511247  0.369997  0.492237  0.340167  0.473266  0.296558  171.001777\n",
              "773   0.489595  0.359165  0.475992  0.342830  0.462392  0.323798  175.763167\n",
              "781   0.459689  0.359033  0.386330  0.331932  0.356384  0.296529  150.502295\n",
              "785   0.481433  0.405225  0.470598  0.361915  0.448867  0.337440  152.444170\n",
              "830   0.530281  0.386295  0.549350  0.443374  0.562888  0.475954  175.909087\n",
              "856   0.519406  0.380911  0.535880  0.315555  0.557570  0.255942  174.153823\n",
              "859   0.505857  0.359005  0.494967  0.318330  0.484098  0.293862  171.036983\n",
              "991   0.492294  0.380963  0.492296  0.337418  0.484093  0.310210  163.219719\n",
              "1003  0.489615  0.348278  0.467741  0.315643  0.432540  0.266749  178.080625\n",
              "1199  0.527595  0.378145  0.530335  0.350950  0.530235  0.340076  173.719756\n",
              "1249  0.467779  0.418848  0.435197  0.394416  0.386291  0.361890  176.761924\n",
              "1278  0.481413  0.310218  0.467740  0.318380  0.421652  0.331916  165.532673\n",
              "1290  0.484098  0.386248  0.495004  0.443357  0.495012  0.470499  169.205392"
            ]
          },
          "metadata": {
            "tags": []
          },
          "execution_count": 52
        }
      ]
    },
    {
      "cell_type": "markdown",
      "metadata": {
        "id": "xVMy9tgkLS_4"
      },
      "source": [
        "내 컴퓨터\r\n",
        "타이거 우즈 스윙 18번 프레임 json data"
      ]
    },
    {
      "cell_type": "code",
      "metadata": {
        "id": "kcTI-0wWJCgr"
      },
      "source": [
        "json_data = json.loads('{\"version\":1.3,\"people\":[{\"person_id\":[-1],\"pose_keypoints_2d\":[0.434974,0.371288,0.0769262,0.52476,0.384899,0.82251,0.579512,0.357585,0.812163,0.390154,0.352164,0.593965,0.330234,0.284135,0.803583,0.459995,0.420327,0.696041,0.315379,0.354972,0.807621,0.260623,0.275955,0.86756,0.52474,0.575699,0.707395,0.454727,0.572929,0.731835,0.380369,0.714585,0.80882,0.340302,0.897208,0.827612,0.59444,0.578433,0.660975,0.634364,0.747351,0.85507,0.679233,0.902498,0.782383,0,0,0,0,0,0,0.53458,0.335913,0.129549,0.499867,0.354901,0.234052,0.7091,0.927299,0.766319,0.739061,0.924458,0.859522,0.654435,0.918903,0.747228,0.320325,0.924494,0.815672,0.295219,0.921656,0.833836,0.355292,0.910801,0.724305],\"face_keypoints_2d\":[],\"hand_left_keypoints_2d\":[],\"hand_right_keypoints_2d\":[],\"pose_keypoints_3d\":[],\"face_keypoints_3d\":[],\"hand_left_keypoints_3d\":[],\"hand_right_keypoints_3d\":[]}]}')"
      ],
      "execution_count": 53,
      "outputs": []
    },
    {
      "cell_type": "code",
      "metadata": {
        "id": "HiRiRMUXLemf"
      },
      "source": [
        "woods_18_kp = json_data['people'][0]['pose_keypoints_2d']"
      ],
      "execution_count": 54,
      "outputs": []
    },
    {
      "cell_type": "code",
      "metadata": {
        "id": "Ljg76z8oLrMP"
      },
      "source": [
        "woods_5 = np.array([woods_18_kp[3 * 5 + 0],\r\n",
        "                   woods_18_kp[3 * 5 + 1]])\r\n",
        "woods_6 = np.array([woods_18_kp[3 * 6 + 0],\r\n",
        "                   woods_18_kp[3 * 6 + 1]])\r\n",
        "woods_7 = np.array([woods_18_kp[3 * 7 + 0],\r\n",
        "                   woods_18_kp[3 * 7 + 1]])"
      ],
      "execution_count": 55,
      "outputs": []
    },
    {
      "cell_type": "code",
      "metadata": {
        "colab": {
          "base_uri": "https://localhost:8080/"
        },
        "id": "ZzIYJYBAMRmb",
        "outputId": "0f1d3a8e-fc86-4d07-e97e-d117a051200f"
      },
      "source": [
        "p3_angle(woods_5, woods_6, woods_7)"
      ],
      "execution_count": 56,
      "outputs": [
        {
          "output_type": "execute_result",
          "data": {
            "text/plain": [
              "149.03980434102647"
            ]
          },
          "metadata": {
            "tags": []
          },
          "execution_count": 56
        }
      ]
    },
    {
      "cell_type": "markdown",
      "metadata": {
        "id": "fDiMA6j7YhnV"
      },
      "source": [
        "### (정면)공을 향해 왼쪽 무릎 이동\r\n",
        "\r\n",
        "백스윙 중에 왼쪽 무릎이 공을 향해 약간 아래쪽으로 움직이는 것\r\n",
        "체중이동에 도움이 된다.\r\n",
        "\r\n",
        "reverse pivot\r\n",
        "백스윙 중에는 앞발로, 다운 스윙 중에는 뒷발로 체중이 이동하는 것\r\n",
        "https://www.golfdistillery.com/swing-errors/reverse-pivot/"
      ]
    },
    {
      "cell_type": "markdown",
      "metadata": {
        "id": "Ap_zVH1hT1j4"
      },
      "source": [
        "### (정면)등이 공을 바라보고 있음\r\n",
        "\r\n",
        "등이 공을 향해있다는 것은 골반과 어깨가 충분히 회전했다는 것을 의미\r\n",
        "회전이 과다하여 일정 포인트를 벗어나거나\r\n",
        "회전이 작아 포인트에 도달하지 못 하고 팔로만 하는 스윙이 되는 것도 문제\r\n",
        "\r\n",
        "3번 탑 자세에서\r\n",
        "- 왼 어깨 : 5\r\n",
        "- 목 : 1\r\n",
        "- 오른 어깨: 2\r\n",
        "- 왼 발: 14\r\n",
        "- 어깨가 이루는 선과 왼발의 좌표를 비교하면 가능할 듯"
      ]
    },
    {
      "cell_type": "code",
      "metadata": {
        "id": "Rkq-dhn8UiVI"
      },
      "source": [
        "back_face = pd.DataFrame()"
      ],
      "execution_count": 57,
      "outputs": []
    },
    {
      "cell_type": "code",
      "metadata": {
        "id": "xD6hdqjiU7a_"
      },
      "source": [
        "for id, data in kp.items():\r\n",
        "  lshoulder = data[3][5]\r\n",
        "  rshoulder = data[3][2]\r\n",
        "  lfoot = data[3][14]\r\n",
        "\r\n",
        "  angle = p3_angle(lfoot, rshoulder, lshoulder)\r\n",
        "  back_face.loc[id, 'angle'] = angle"
      ],
      "execution_count": 71,
      "outputs": []
    },
    {
      "cell_type": "code",
      "metadata": {
        "colab": {
          "base_uri": "https://localhost:8080/",
          "height": 407
        },
        "id": "J0Z-9rmuVdqH",
        "outputId": "bc77b97d-16c7-4668-b1b9-f11c41550b21"
      },
      "source": [
        "back_face"
      ],
      "execution_count": 70,
      "outputs": [
        {
          "output_type": "execute_result",
          "data": {
            "text/html": [
              "<div>\n",
              "<style scoped>\n",
              "    .dataframe tbody tr th:only-of-type {\n",
              "        vertical-align: middle;\n",
              "    }\n",
              "\n",
              "    .dataframe tbody tr th {\n",
              "        vertical-align: top;\n",
              "    }\n",
              "\n",
              "    .dataframe thead th {\n",
              "        text-align: right;\n",
              "    }\n",
              "</style>\n",
              "<table border=\"1\" class=\"dataframe\">\n",
              "  <thead>\n",
              "    <tr style=\"text-align: right;\">\n",
              "      <th></th>\n",
              "      <th>angle</th>\n",
              "    </tr>\n",
              "  </thead>\n",
              "  <tbody>\n",
              "    <tr>\n",
              "      <th>8</th>\n",
              "      <td>90.249534</td>\n",
              "    </tr>\n",
              "    <tr>\n",
              "      <th>10</th>\n",
              "      <td>106.103853</td>\n",
              "    </tr>\n",
              "    <tr>\n",
              "      <th>14</th>\n",
              "      <td>113.601729</td>\n",
              "    </tr>\n",
              "    <tr>\n",
              "      <th>19</th>\n",
              "      <td>90.562041</td>\n",
              "    </tr>\n",
              "    <tr>\n",
              "      <th>25</th>\n",
              "      <td>104.262174</td>\n",
              "    </tr>\n",
              "    <tr>\n",
              "      <th>...</th>\n",
              "      <td>...</td>\n",
              "    </tr>\n",
              "    <tr>\n",
              "      <th>1348</th>\n",
              "      <td>99.408690</td>\n",
              "    </tr>\n",
              "    <tr>\n",
              "      <th>1352</th>\n",
              "      <td>82.909703</td>\n",
              "    </tr>\n",
              "    <tr>\n",
              "      <th>1374</th>\n",
              "      <td>103.549656</td>\n",
              "    </tr>\n",
              "    <tr>\n",
              "      <th>1388</th>\n",
              "      <td>102.986562</td>\n",
              "    </tr>\n",
              "    <tr>\n",
              "      <th>1396</th>\n",
              "      <td>79.951472</td>\n",
              "    </tr>\n",
              "  </tbody>\n",
              "</table>\n",
              "<p>174 rows × 1 columns</p>\n",
              "</div>"
            ],
            "text/plain": [
              "           angle\n",
              "8      90.249534\n",
              "10    106.103853\n",
              "14    113.601729\n",
              "19     90.562041\n",
              "25    104.262174\n",
              "...          ...\n",
              "1348   99.408690\n",
              "1352   82.909703\n",
              "1374  103.549656\n",
              "1388  102.986562\n",
              "1396   79.951472\n",
              "\n",
              "[174 rows x 1 columns]"
            ]
          },
          "metadata": {
            "tags": []
          },
          "execution_count": 70
        }
      ]
    },
    {
      "cell_type": "markdown",
      "metadata": {
        "id": "f47VYsK2s1Dd"
      },
      "source": [
        "#### 문제: \r\n",
        "이상하게 각도가 크다. 70 ~ 90도  \r\n",
        "타이거 우즈 스윙은 30도"
      ]
    },
    {
      "cell_type": "code",
      "metadata": {
        "colab": {
          "base_uri": "https://localhost:8080/",
          "height": 319
        },
        "id": "QZIoNFZUY0SU",
        "outputId": "31b5ffa2-b3a8-4a5a-f405-75b11f1eab21"
      },
      "source": [
        "back_face.hist()"
      ],
      "execution_count": 72,
      "outputs": [
        {
          "output_type": "execute_result",
          "data": {
            "text/plain": [
              "array([[<matplotlib.axes._subplots.AxesSubplot object at 0x7f50e90ae290>]],\n",
              "      dtype=object)"
            ]
          },
          "metadata": {
            "tags": []
          },
          "execution_count": 72
        },
        {
          "output_type": "display_data",
          "data": {
            "image/png": "[encoded data removed]",
            "text/plain": [
              "<Figure size 432x288 with 1 Axes>"
            ]
          },
          "metadata": {
            "tags": [],
            "needs_background": "light"
          }
        }
      ]
    },
    {
      "cell_type": "code",
      "metadata": {
        "colab": {
          "base_uri": "https://localhost:8080/"
        },
        "id": "QtRscPq2Xnil",
        "outputId": "10a9385e-3132-43f0-e0a7-805629c42f63"
      },
      "source": [
        "woods_angle = p3_angle(woods_data[3][14], woods_data[3][2], woods_data[3][5])\r\n",
        "woods_angle"
      ],
      "execution_count": 68,
      "outputs": [
        {
          "output_type": "execute_result",
          "data": {
            "text/plain": [
              "29.18788"
            ]
          },
          "metadata": {
            "tags": []
          },
          "execution_count": 68
        }
      ]
    },
    {
      "cell_type": "markdown",
      "metadata": {
        "id": "-CrONXigtaqU"
      },
      "source": [
        "### (정면)헤드 포지션이 일정한지\r\n",
        "\r\n",
        "일정한 헤드 포지션은 즉, 어드레스 시 만들었던 척추 각도를 유지하는 것을 말함.\r\n",
        "이는 어드레스에서 임팩트까지 안정된 스윙 궤도를 만들어줌  \r\n",
        "척추 각도가 불안정하면 스윙 궤도 또한 불안정해져 일관된 샷을 칠 수 없음  \r\n",
        "  \r\n",
        "어드레스, 탑 헤드 좌표를 비교한다.\r\n",
        "- 코: 0\r\n"
      ]
    },
    {
      "cell_type": "code",
      "metadata": {
        "id": "cYjnuu-MupBD"
      },
      "source": [
        "nose = pd.DataFrame()"
      ],
      "execution_count": 3,
      "outputs": []
    },
    {
      "cell_type": "code",
      "metadata": {
        "id": "ZIqeaDGuu-pO"
      },
      "source": [
        "for id, data in kp.items():\r\n",
        "  nose_address = data[0][0]\r\n",
        "  nose_top = data[3][0]\r\n",
        "  diff = np.array(nose_address) - np.array(nose_top)\r\n",
        "  nose.loc[id, 'diff_x'] = diff[0]\r\n",
        "  nose.loc[id, 'diff_y'] = diff[1]\r\n"
      ],
      "execution_count": 11,
      "outputs": []
    },
    {
      "cell_type": "code",
      "metadata": {
        "colab": {
          "base_uri": "https://localhost:8080/",
          "height": 284
        },
        "id": "Vc6G1qcFv2w6",
        "outputId": "dfda1395-9732-438d-93a2-845520c625c1"
      },
      "source": [
        "nose['diff_x'].hist()"
      ],
      "execution_count": 13,
      "outputs": [
        {
          "output_type": "execute_result",
          "data": {
            "text/plain": [
              "<matplotlib.axes._subplots.AxesSubplot at 0x7f96afe3ddd0>"
            ]
          },
          "metadata": {
            "tags": []
          },
          "execution_count": 13
        },
        {
          "output_type": "display_data",
          "data": {
            "image/png": "[encoded data removed]",
            "text/plain": [
              "<Figure size 432x288 with 1 Axes>"
            ]
          },
          "metadata": {
            "tags": [],
            "needs_background": "light"
          }
        }
      ]
    },
    {
      "cell_type": "markdown",
      "metadata": {
        "id": "fDncAdNxYoXs"
      },
      "source": [
        "## 4번 downswing 자세"
      ]
    },
    {
      "cell_type": "markdown",
      "metadata": {
        "id": "iPahiA47eEnT"
      },
      "source": [
        "## 5번 Impact 자세"
      ]
    },
    {
      "cell_type": "markdown",
      "metadata": {
        "id": "i6nOU-IFeH-q"
      },
      "source": [
        "### (정면)리버스 피벗\r\n",
        "https://www.golfdistillery.com/swing-errors/reverse-pivot/\r\n",
        "\r\n",
        "리버스 피벗이란 정상적인 체중 이동과는 반대로 체중 이동하는 것을 말하는 것\r\n",
        "백스윙 시에 왼발로, 다운스윙 시에 오른발로 체중이동하는 것\r\n",
        "\r\n",
        "정상적인 스윙\r\n",
        "어드레스 : 양 발에 동등하게 무게 중심\r\n",
        "백스윙 : 뒷발(오른발)에 무게 중심\r\n",
        "다운스윙 : 앞발(왼발)에 무게 중심\r\n",
        "팔로우 스루 : 모든 무게 중심을 앞발로\r\n",
        "\r\n",
        "반대로 된 체중이동은 공에 임팩트 시 제대로 된 힘을 전달할 수 없다.\r\n",
        "\r\n",
        "임팩트 시에 무게 중심이 뒷 발에 있는 골퍼의 경우\r\n",
        "스윙 궤도가 볼의 뒤에 있게 되므로\r\n",
        "헤드가 볼의 윗 부분을 때리게 되는 thin shot 이 나오게 된다.\r\n",
        "\r\n",
        "임팩트 시 왼쪽 어깨가 왼발과 같은 라인을 이루는 것이 좋은 샷이라고 가정\r\n",
        "(상체가 오른쪽으로 약간 이동한 상태)\r\n",
        "왼쪽 어깨 x좌표가 왼쪽 발 x좌표에서 많이 떨어졌는 가를 체크한다\r\n",
        "\r\n"
      ]
    },
    {
      "cell_type": "code",
      "metadata": {
        "id": "Ol0MohPAMWQ8"
      },
      "source": [
        "# 넘파이 좌표의 차를 리턴하는 함수\r\n",
        "def compare_points(a, b):\r\n",
        "  a = np.array(a)\r\n",
        "  b = np.array(b)\r\n",
        "  return a - b"
      ],
      "execution_count": null,
      "outputs": []
    },
    {
      "cell_type": "code",
      "metadata": {
        "id": "uneRwBJYjIhq"
      },
      "source": [
        "kp_ = pd.DataFrame()"
      ],
      "execution_count": null,
      "outputs": []
    },
    {
      "cell_type": "code",
      "metadata": {
        "id": "ppuyZkkHh4WQ"
      },
      "source": [
        "for id, points in kp.items():\r\n",
        "  p = points[5]\r\n",
        "  \r\n",
        "  kp_.loc[id, '5x'] = p[5][0]   # 왼 어깨\r\n",
        "  kp_.loc[id, '5y'] = p[5][1]\r\n",
        "\r\n",
        "  kp_.loc[id, '14x'] = p[14][0]   # 왼 발목\r\n",
        "  kp_.loc[id, '14y'] = p[14][1]\r\n",
        "\r\n",
        "  kp_.loc[id, 'x_diff'] = compare_points(p[5], p[14])[0]"
      ],
      "execution_count": null,
      "outputs": []
    },
    {
      "cell_type": "code",
      "metadata": {
        "colab": {
          "base_uri": "https://localhost:8080/",
          "height": 407
        },
        "id": "pyGXSNB3iYtr",
        "outputId": "02e7e0a8-ac45-4661-da11-1e76c8a77ec7"
      },
      "source": [
        "kp_"
      ],
      "execution_count": null,
      "outputs": [
        {
          "output_type": "execute_result",
          "data": {
            "text/html": [
              "<div>\n",
              "<style scoped>\n",
              "    .dataframe tbody tr th:only-of-type {\n",
              "        vertical-align: middle;\n",
              "    }\n",
              "\n",
              "    .dataframe tbody tr th {\n",
              "        vertical-align: top;\n",
              "    }\n",
              "\n",
              "    .dataframe thead th {\n",
              "        text-align: right;\n",
              "    }\n",
              "</style>\n",
              "<table border=\"1\" class=\"dataframe\">\n",
              "  <thead>\n",
              "    <tr style=\"text-align: right;\">\n",
              "      <th></th>\n",
              "      <th>5x</th>\n",
              "      <th>5y</th>\n",
              "      <th>14x</th>\n",
              "      <th>14y</th>\n",
              "      <th>x_diff</th>\n",
              "    </tr>\n",
              "  </thead>\n",
              "  <tbody>\n",
              "    <tr>\n",
              "      <th>8</th>\n",
              "      <td>0.478676</td>\n",
              "      <td>0.315695</td>\n",
              "      <td>0.541175</td>\n",
              "      <td>0.685239</td>\n",
              "      <td>-0.062499</td>\n",
              "    </tr>\n",
              "    <tr>\n",
              "      <th>10</th>\n",
              "      <td>0.508586</td>\n",
              "      <td>0.397168</td>\n",
              "      <td>0.552081</td>\n",
              "      <td>0.774882</td>\n",
              "      <td>-0.043495</td>\n",
              "    </tr>\n",
              "    <tr>\n",
              "      <th>14</th>\n",
              "      <td>0.522180</td>\n",
              "      <td>0.378069</td>\n",
              "      <td>0.552100</td>\n",
              "      <td>0.758580</td>\n",
              "      <td>-0.029920</td>\n",
              "    </tr>\n",
              "    <tr>\n",
              "      <th>19</th>\n",
              "      <td>0.533033</td>\n",
              "      <td>0.389083</td>\n",
              "      <td>0.576478</td>\n",
              "      <td>0.728566</td>\n",
              "      <td>-0.043445</td>\n",
              "    </tr>\n",
              "    <tr>\n",
              "      <th>25</th>\n",
              "      <td>0.508615</td>\n",
              "      <td>0.361980</td>\n",
              "      <td>0.573769</td>\n",
              "      <td>0.723250</td>\n",
              "      <td>-0.065154</td>\n",
              "    </tr>\n",
              "    <tr>\n",
              "      <th>...</th>\n",
              "      <td>...</td>\n",
              "      <td>...</td>\n",
              "      <td>...</td>\n",
              "      <td>...</td>\n",
              "      <td>...</td>\n",
              "    </tr>\n",
              "    <tr>\n",
              "      <th>1348</th>\n",
              "      <td>0.557573</td>\n",
              "      <td>0.405279</td>\n",
              "      <td>0.590101</td>\n",
              "      <td>0.793927</td>\n",
              "      <td>-0.032528</td>\n",
              "    </tr>\n",
              "    <tr>\n",
              "      <th>1352</th>\n",
              "      <td>0.530295</td>\n",
              "      <td>0.413501</td>\n",
              "      <td>0.557592</td>\n",
              "      <td>0.728633</td>\n",
              "      <td>-0.027297</td>\n",
              "    </tr>\n",
              "    <tr>\n",
              "      <th>1374</th>\n",
              "      <td>0.516687</td>\n",
              "      <td>0.364513</td>\n",
              "      <td>0.560217</td>\n",
              "      <td>0.750329</td>\n",
              "      <td>-0.043530</td>\n",
              "    </tr>\n",
              "    <tr>\n",
              "      <th>1388</th>\n",
              "      <td>0.560192</td>\n",
              "      <td>0.380786</td>\n",
              "      <td>0.600870</td>\n",
              "      <td>0.788506</td>\n",
              "      <td>-0.040678</td>\n",
              "    </tr>\n",
              "    <tr>\n",
              "      <th>1396</th>\n",
              "      <td>0.470591</td>\n",
              "      <td>0.386262</td>\n",
              "      <td>0.584685</td>\n",
              "      <td>0.796593</td>\n",
              "      <td>-0.114094</td>\n",
              "    </tr>\n",
              "  </tbody>\n",
              "</table>\n",
              "<p>174 rows × 5 columns</p>\n",
              "</div>"
            ],
            "text/plain": [
              "            5x        5y       14x       14y    x_diff\n",
              "8     0.478676  0.315695  0.541175  0.685239 -0.062499\n",
              "10    0.508586  0.397168  0.552081  0.774882 -0.043495\n",
              "14    0.522180  0.378069  0.552100  0.758580 -0.029920\n",
              "19    0.533033  0.389083  0.576478  0.728566 -0.043445\n",
              "25    0.508615  0.361980  0.573769  0.723250 -0.065154\n",
              "...        ...       ...       ...       ...       ...\n",
              "1348  0.557573  0.405279  0.590101  0.793927 -0.032528\n",
              "1352  0.530295  0.413501  0.557592  0.728633 -0.027297\n",
              "1374  0.516687  0.364513  0.560217  0.750329 -0.043530\n",
              "1388  0.560192  0.380786  0.600870  0.788506 -0.040678\n",
              "1396  0.470591  0.386262  0.584685  0.796593 -0.114094\n",
              "\n",
              "[174 rows x 5 columns]"
            ]
          },
          "metadata": {
            "tags": []
          },
          "execution_count": 76
        }
      ]
    },
    {
      "cell_type": "code",
      "metadata": {
        "colab": {
          "base_uri": "https://localhost:8080/",
          "height": 284
        },
        "id": "8mLnilw7ihCJ",
        "outputId": "01e80561-7109-44d2-ae07-351f80b985ec"
      },
      "source": [
        "plt.scatter(kp_.index, kp_['x_diff'])"
      ],
      "execution_count": null,
      "outputs": [
        {
          "output_type": "execute_result",
          "data": {
            "text/plain": [
              "<matplotlib.collections.PathCollection at 0x7fae252cf240>"
            ]
          },
          "metadata": {
            "tags": []
          },
          "execution_count": 79
        },
        {
          "output_type": "display_data",
          "data": {
            "image/png": "[encoded data removed]",
            "text/plain": [
              "<Figure size 432x288 with 1 Axes>"
            ]
          },
          "metadata": {
            "tags": [],
            "needs_background": "light"
          }
        }
      ]
    },
    {
      "cell_type": "code",
      "metadata": {
        "colab": {
          "base_uri": "https://localhost:8080/"
        },
        "id": "uZsw1HNXkBLj",
        "outputId": "9acab51f-dd47-403d-e360-043f409c86b0"
      },
      "source": [
        "kp_['x_diff'].max()"
      ],
      "execution_count": null,
      "outputs": [
        {
          "output_type": "execute_result",
          "data": {
            "text/plain": [
              "0.11950900000000003"
            ]
          },
          "metadata": {
            "tags": []
          },
          "execution_count": 80
        }
      ]
    },
    {
      "cell_type": "code",
      "metadata": {
        "colab": {
          "base_uri": "https://localhost:8080/"
        },
        "id": "ubmTy0IIkQs0",
        "outputId": "1609c555-bb58-4a34-f8a2-61939e6972e3"
      },
      "source": [
        "kp_['x_diff'].min()"
      ],
      "execution_count": null,
      "outputs": [
        {
          "output_type": "execute_result",
          "data": {
            "text/plain": [
              "-0.11948600000000004"
            ]
          },
          "metadata": {
            "tags": []
          },
          "execution_count": 81
        }
      ]
    },
    {
      "cell_type": "markdown",
      "metadata": {
        "id": "G92k3DpxkV6J"
      },
      "source": [
        "발목 좌표 - 어깨 좌표 대부분이 마이너스 결과\r\n",
        "왼쪽 어깨가 왼쪽 발목보다 더 왼쪽"
      ]
    },
    {
      "cell_type": "code",
      "metadata": {
        "colab": {
          "base_uri": "https://localhost:8080/",
          "height": 360
        },
        "id": "d4CHX3hHkTJ8",
        "outputId": "974b9646-3472-4ab5-b36a-fd22576c7331"
      },
      "source": [
        "plt.hist(kp_['x_diff'])"
      ],
      "execution_count": null,
      "outputs": [
        {
          "output_type": "execute_result",
          "data": {
            "text/plain": [
              "(array([ 7., 25., 75., 52.,  9.,  0.,  1.,  0.,  2.,  3.]),\n",
              " array([-1.19486e-01, -9.55865e-02, -7.16870e-02, -4.77875e-02,\n",
              "        -2.38880e-02,  1.15000e-05,  2.39110e-02,  4.78105e-02,\n",
              "         7.17100e-02,  9.56095e-02,  1.19509e-01]),\n",
              " <a list of 10 Patch objects>)"
            ]
          },
          "metadata": {
            "tags": []
          },
          "execution_count": 82
        },
        {
          "output_type": "display_data",
          "data": {
            "image/png": "[encoded data removed]",
            "text/plain": [
              "<Figure size 432x288 with 1 Axes>"
            ]
          },
          "metadata": {
            "tags": [],
            "needs_background": "light"
          }
        }
      ]
    },
    {
      "cell_type": "markdown",
      "metadata": {
        "id": "2ja0X3Vt6kzq"
      },
      "source": [
        "### (정면)너무 빠른 릴리즈 하지 않기\r\n",
        "\r\n",
        "\r\n"
      ]
    },
    {
      "cell_type": "markdown",
      "metadata": {
        "id": "vVdnSiM3zln4"
      },
      "source": [
        "## 6번 Follow through 자세"
      ]
    },
    {
      "cell_type": "markdown",
      "metadata": {
        "id": "XM7cQitFzta_"
      },
      "source": [
        "### (정면)치킨윙\r\n",
        "임팩트 후 왼 팔이 몸에 붙어있어야.\r\n",
        "치킨윙은 임팩트 후 왼팔이 몸에서 떨어지면서 왼 팔꿈치가 하늘을 향하는  \r\n",
        "몸의 회전이 부족해서 생기는 증상으로 비거리와 방향성에서 손해를 본다.  \r\n",
        "임팩트 시 조금이라도 공의 윗 부분을 때릴 수 밖에 없음/ 완전한 회전이 이루어지지 않기때문에\r\n",
        "  \r\n",
        "  \r\n",
        "  팔로우 스루 시 왼팔의 각도를 비교해본다.\r\n"
      ]
    },
    {
      "cell_type": "code",
      "metadata": {
        "id": "LfJX7KIgksOL"
      },
      "source": [
        "chicken_wing = pd.DataFrame()"
      ],
      "execution_count": 17,
      "outputs": []
    },
    {
      "cell_type": "code",
      "metadata": {
        "id": "utR-RNcb3PRf"
      },
      "source": [
        "for id, data in kp.items():\r\n",
        "  lshoulder = data[6][5]\r\n",
        "  lelbow = data[6][6]\r\n",
        "  lwrist = data[6][7]\r\n",
        "\r\n",
        "  if (0 in lshoulder) or (0 in lelbow) or (0 in lwrist):\r\n",
        "    continue\r\n",
        "\r\n",
        "  angle = p3_angle(lshoulder, lelbow, lwrist)\r\n",
        "  chicken_wing.loc[id, 'angle'] = angle"
      ],
      "execution_count": 18,
      "outputs": []
    },
    {
      "cell_type": "code",
      "metadata": {
        "colab": {
          "base_uri": "https://localhost:8080/",
          "height": 319
        },
        "id": "X-pVM0Ff3mYK",
        "outputId": "b7890ca2-fd37-4f9c-b698-8db4ad2ea48f"
      },
      "source": [
        "chicken_wing.hist(bins=30)"
      ],
      "execution_count": 24,
      "outputs": [
        {
          "output_type": "execute_result",
          "data": {
            "text/plain": [
              "array([[<matplotlib.axes._subplots.AxesSubplot object at 0x7f96af6da210>]],\n",
              "      dtype=object)"
            ]
          },
          "metadata": {
            "tags": []
          },
          "execution_count": 24
        },
        {
          "output_type": "display_data",
          "data": {
            "image/png": "[encoded data removed]",
            "text/plain": [
              "<Figure size 432x288 with 1 Axes>"
            ]
          },
          "metadata": {
            "tags": [],
            "needs_background": "light"
          }
        }
      ]
    },
    {
      "cell_type": "code",
      "metadata": {
        "colab": {
          "base_uri": "https://localhost:8080/"
        },
        "id": "kugofdj04CBz",
        "outputId": "32667528-318f-4fbc-b4c7-99ec0ad0c82e"
      },
      "source": [
        "p3_angle(woods_data[6][5], woods_data[6][6], woods_data[6][7])"
      ],
      "execution_count": 26,
      "outputs": [
        {
          "output_type": "execute_result",
          "data": {
            "text/plain": [
              "168.8728"
            ]
          },
          "metadata": {
            "tags": []
          },
          "execution_count": 26
        }
      ]
    },
    {
      "cell_type": "code",
      "metadata": {
        "id": "eMXi8MTO4oLT"
      },
      "source": [
        ""
      ],
      "execution_count": null,
      "outputs": []
    }
  ]
}